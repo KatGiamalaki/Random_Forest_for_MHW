{
 "cells": [
  {
   "cell_type": "code",
   "execution_count": 1,
   "metadata": {},
   "outputs": [
    {
     "name": "stderr",
     "output_type": "stream",
     "text": [
      "/soft/anaconda/python3/2019.03/CentOS_7/lib/python3.7/site-packages/dask/config.py:168: YAMLLoadWarning: calling yaml.load() without Loader=... is deprecated, as the default Loader is unsafe. Please read https://msg.pyyaml.org/load for full details.\n",
      "  data = yaml.load(f.read()) or {}\n",
      "/soft/anaconda/python3/2019.03/CentOS_7/lib/python3.7/site-packages/distributed/config.py:20: YAMLLoadWarning: calling yaml.load() without Loader=... is deprecated, as the default Loader is unsafe. Please read https://msg.pyyaml.org/load for full details.\n",
      "  defaults = yaml.load(f)\n"
     ]
    }
   ],
   "source": [
    "import matplotlib.pyplot as plt\n",
    "import numpy as np\n",
    "import xarray as xr\n",
    "import netCDF4 as nc\n",
    "import pandas as pd\n",
    "import os \n",
    "\n",
    "from sklearn.model_selection import train_test_split\n",
    "from sklearn.model_selection import KFold \n",
    "from sklearn.ensemble import RandomForestClassifier\n",
    "from pprint import pprint\n",
    "from sklearn.model_selection import RandomizedSearchCV\n",
    "from sklearn.metrics import accuracy_score, confusion_matrix, classification_report\n",
    "import seaborn as sns\n",
    "\n",
    "%matplotlib inline"
   ]
  },
  {
   "cell_type": "markdown",
   "metadata": {},
   "source": [
    "# Data Preparation"
   ]
  },
  {
   "cell_type": "code",
   "execution_count": 4,
   "metadata": {},
   "outputs": [],
   "source": [
    "file_name='/auto/home/agiamala/rf_mhw/balance_noland_2lag.csv'\n",
    "colnames=['day', 'month','year', 'lon', 'lat', 'Qnet','slp', 'sat', 'wind_speed','sst', 'sstRoC', 'mhw_categories']\n",
    "allvars = pd.read_csv(file_name, names=colnames, header=None)"
   ]
  },
  {
   "cell_type": "code",
   "execution_count": 5,
   "metadata": {
    "scrolled": true
   },
   "outputs": [
    {
     "data": {
      "text/html": [
       "<div>\n",
       "<style scoped>\n",
       "    .dataframe tbody tr th:only-of-type {\n",
       "        vertical-align: middle;\n",
       "    }\n",
       "\n",
       "    .dataframe tbody tr th {\n",
       "        vertical-align: top;\n",
       "    }\n",
       "\n",
       "    .dataframe thead th {\n",
       "        text-align: right;\n",
       "    }\n",
       "</style>\n",
       "<table border=\"1\" class=\"dataframe\">\n",
       "  <thead>\n",
       "    <tr style=\"text-align: right;\">\n",
       "      <th></th>\n",
       "      <th>day</th>\n",
       "      <th>month</th>\n",
       "      <th>year</th>\n",
       "      <th>lon</th>\n",
       "      <th>lat</th>\n",
       "      <th>Qnet</th>\n",
       "      <th>slp</th>\n",
       "      <th>sat</th>\n",
       "      <th>wind_speed</th>\n",
       "      <th>sst</th>\n",
       "      <th>sstRoC</th>\n",
       "      <th>mhw_categories</th>\n",
       "    </tr>\n",
       "  </thead>\n",
       "  <tbody>\n",
       "    <tr>\n",
       "      <th>0</th>\n",
       "      <td>15</td>\n",
       "      <td>4</td>\n",
       "      <td>1982</td>\n",
       "      <td>187.5</td>\n",
       "      <td>62.5</td>\n",
       "      <td>-66.637344</td>\n",
       "      <td>101358.0</td>\n",
       "      <td>254.300018</td>\n",
       "      <td>8.538167</td>\n",
       "      <td>0.113703</td>\n",
       "      <td>0.000322</td>\n",
       "      <td>2</td>\n",
       "    </tr>\n",
       "    <tr>\n",
       "      <th>1</th>\n",
       "      <td>15</td>\n",
       "      <td>4</td>\n",
       "      <td>1983</td>\n",
       "      <td>187.5</td>\n",
       "      <td>62.5</td>\n",
       "      <td>-65.002373</td>\n",
       "      <td>98358.0</td>\n",
       "      <td>270.910004</td>\n",
       "      <td>10.496689</td>\n",
       "      <td>-0.076853</td>\n",
       "      <td>-0.025537</td>\n",
       "      <td>0</td>\n",
       "    </tr>\n",
       "    <tr>\n",
       "      <th>2</th>\n",
       "      <td>16</td>\n",
       "      <td>4</td>\n",
       "      <td>1982</td>\n",
       "      <td>187.5</td>\n",
       "      <td>62.5</td>\n",
       "      <td>-17.041456</td>\n",
       "      <td>101628.0</td>\n",
       "      <td>253.610016</td>\n",
       "      <td>7.276663</td>\n",
       "      <td>0.134919</td>\n",
       "      <td>-0.001689</td>\n",
       "      <td>2</td>\n",
       "    </tr>\n",
       "    <tr>\n",
       "      <th>3</th>\n",
       "      <td>16</td>\n",
       "      <td>4</td>\n",
       "      <td>1983</td>\n",
       "      <td>187.5</td>\n",
       "      <td>62.5</td>\n",
       "      <td>-45.414860</td>\n",
       "      <td>99783.0</td>\n",
       "      <td>267.380005</td>\n",
       "      <td>3.667764</td>\n",
       "      <td>-0.117372</td>\n",
       "      <td>-0.021046</td>\n",
       "      <td>0</td>\n",
       "    </tr>\n",
       "    <tr>\n",
       "      <th>4</th>\n",
       "      <td>17</td>\n",
       "      <td>4</td>\n",
       "      <td>1982</td>\n",
       "      <td>187.5</td>\n",
       "      <td>62.5</td>\n",
       "      <td>-39.753933</td>\n",
       "      <td>101975.0</td>\n",
       "      <td>255.230011</td>\n",
       "      <td>5.886999</td>\n",
       "      <td>0.071097</td>\n",
       "      <td>0.012867</td>\n",
       "      <td>2</td>\n",
       "    </tr>\n",
       "  </tbody>\n",
       "</table>\n",
       "</div>"
      ],
      "text/plain": [
       "   day  month  year    lon   lat       Qnet       slp         sat  wind_speed  \\\n",
       "0   15      4  1982  187.5  62.5 -66.637344  101358.0  254.300018    8.538167   \n",
       "1   15      4  1983  187.5  62.5 -65.002373   98358.0  270.910004   10.496689   \n",
       "2   16      4  1982  187.5  62.5 -17.041456  101628.0  253.610016    7.276663   \n",
       "3   16      4  1983  187.5  62.5 -45.414860   99783.0  267.380005    3.667764   \n",
       "4   17      4  1982  187.5  62.5 -39.753933  101975.0  255.230011    5.886999   \n",
       "\n",
       "        sst    sstRoC  mhw_categories  \n",
       "0  0.113703  0.000322               2  \n",
       "1 -0.076853 -0.025537               0  \n",
       "2  0.134919 -0.001689               2  \n",
       "3 -0.117372 -0.021046               0  \n",
       "4  0.071097  0.012867               2  "
      ]
     },
     "execution_count": 5,
     "metadata": {},
     "output_type": "execute_result"
    }
   ],
   "source": [
    "allvars.head()"
   ]
  },
  {
   "cell_type": "code",
   "execution_count": null,
   "metadata": {},
   "outputs": [],
   "source": [
    "# Labels are the values we want to predict\n",
    "labels = np.array(allvars['mhw_categories'])"
   ]
  },
  {
   "cell_type": "code",
   "execution_count": null,
   "metadata": {},
   "outputs": [],
   "source": [
    "# Remove the labels from the features\n",
    "# axis 1 refers to the columns\n",
    "allvars= allvars.drop('mhw_categories', axis = 1)\n",
    "# Saving feature names for later use\n",
    "allvars_list = list(allvars.columns)\n",
    "allvars_list"
   ]
  },
  {
   "cell_type": "code",
   "execution_count": null,
   "metadata": {},
   "outputs": [],
   "source": [
    "# Convert to numpy array\n",
    "allvars = np.array(allvars)"
   ]
  },
  {
   "cell_type": "code",
   "execution_count": null,
   "metadata": {},
   "outputs": [],
   "source": [
    "# Split the data into training and testing sets\n",
    "# the random_state parameter is used for initializing the internal random number generator, \n",
    "# which will decide the splitting of data into train and test indices.\n",
    "train_allvars, test_allvars, train_labels, test_labels = train_test_split(allvars, labels, test_size = 0.4, random_state = 42)"
   ]
  },
  {
   "cell_type": "code",
   "execution_count": null,
   "metadata": {},
   "outputs": [],
   "source": [
    "print('Training allvars Shape:', train_allvars.shape)\n",
    "print('Training Labels Shape:', train_labels.shape)\n",
    "print('Testing allvars Shape:', test_allvars.shape)\n",
    "print('Testing Labels Shape:', test_labels.shape)"
   ]
  },
  {
   "cell_type": "markdown",
   "metadata": {},
   "source": [
    "# Randomized Cross Validation"
   ]
  },
  {
   "cell_type": "code",
   "execution_count": null,
   "metadata": {},
   "outputs": [],
   "source": [
    "# Number of trees in random forest\n",
    "n_estimators = [int(x) for x in np.linspace(start = 200, stop = 1000, num = 9)]\n",
    "# Number of features to consider at every split\n",
    "max_features = ['auto', 'sqrt']\n",
    "# Maximum number of levels in tree\n",
    "max_depth = [int(x) for x in np.linspace(10, 110, num = 11)]\n",
    "max_depth.append(None)\n",
    "# Minimum number of samples required to split a node\n",
    "min_samples_split = [2, 5, 10]\n",
    "# Minimum number of samples required at each leaf node\n",
    "min_samples_leaf = [1, 2, 4]\n",
    "# Method of selecting samples for training each tree\n",
    "bootstrap = [True, False]\n",
    "# Create the random grid\n",
    "random_grid = {'n_estimators': n_estimators,\n",
    "               'max_features': max_features,\n",
    "               'max_depth': max_depth,\n",
    "               'min_samples_split': min_samples_split,\n",
    "               'min_samples_leaf': min_samples_leaf,\n",
    "               'bootstrap': bootstrap}\n",
    "pprint(random_grid)"
   ]
  },
  {
   "cell_type": "code",
   "execution_count": null,
   "metadata": {},
   "outputs": [],
   "source": [
    "# Use the random grid to search for best hyperparameters\n",
    "# First create the base model to tune\n",
    "rf = RandomForestClassifier()\n",
    "# Random search of parameters, using 3 fold cross validation, \n",
    "# search across 100 different combinations, and use all available cores\n",
    "rf_random = RandomizedSearchCV(estimator = rf, param_distributions = random_grid, n_iter = 100, cv = 3, verbose=2, random_state=42, n_jobs = 3)\n",
    "# Fit the random search model\n",
    "rf_random.fit(train_allvars, train_labels)"
   ]
  },
  {
   "cell_type": "code",
   "execution_count": null,
   "metadata": {},
   "outputs": [],
   "source": [
    "# Get CV results\n",
    "rf_random.best_params_\n",
    "\n",
    "df_cv_results = pd.DataFrame(rf_random.cv_results_)\n",
    "df_cv_results.head()"
   ]
  },
  {
   "cell_type": "code",
   "execution_count": null,
   "metadata": {},
   "outputs": [],
   "source": [
    "# Define evaluation means function\n",
    "def evaluate(model, test_allvars, test_labels):\n",
    "    predictions = model.predict(test_allvars)\n",
    "    predictions1=predictions+1 \n",
    "    test_labels1=test_labels+1\n",
    "    errors = abs(predictions1 - test_labels1)\n",
    "    mape = 100 * np.mean(errors / test_labels1)\n",
    "    accuracy = 100 - mape\n",
    "    print('Model Performance')\n",
    "    print('Average Error: {:0.4f} degrees.'.format(np.mean(errors)))\n",
    "    print('Accuracy = {:0.2f}%.'.format(accuracy))\n",
    "    \n",
    "    return accuracy"
   ]
  },
  {
   "cell_type": "code",
   "execution_count": null,
   "metadata": {},
   "outputs": [],
   "source": [
    "# Evaluate best model against base model\n",
    "base_model = RandomForestClassifier(n_estimators = 10, random_state = 42)\n",
    "base_model.fit(train_allvars, train_labels)\n",
    "base_accuracy = evaluate(base_model, test_allvars, test_labels)\n",
    "\n",
    "best_random = rf_random.best_estimator_\n",
    "random_accuracy = evaluate(best_random, test_allvars, test_labels)\n",
    "\n",
    "print('Improvement of {:0.2f}%.'.format( 100 * (random_accuracy - base_accuracy) / base_accuracy))"
   ]
  },
  {
   "cell_type": "markdown",
   "metadata": {},
   "source": [
    "# Random Forest\n",
    "# Run RF with best model identified by CV "
   ]
  },
  {
   "cell_type": "code",
   "execution_count": null,
   "metadata": {},
   "outputs": [],
   "source": [
    "# Import the model we are using\n",
    "from sklearn.ensemble import RandomForestClassifier\n",
    "# Instantiate model with N decision trees\n",
    "rfc = RandomForestClassifier(n_estimators = 800, min_samples_split=2,min_samples_leaf=1, random_state = 42) # oob_score=True, bootstrap=True\n",
    "# Train the model on training data\n",
    "rfc.fit(train_allvars, train_labels);"
   ]
  },
  {
   "cell_type": "code",
   "execution_count": null,
   "metadata": {},
   "outputs": [],
   "source": [
    "print('Score against train set: ', rfc.score(train_allvars, train_labels))\n",
    "# print('OOB Score: ', rfc.oob_score_) # only if bootstrap=True\n",
    "print('Score against test set: ', rfc.score(test_allvars, test_labels))"
   ]
  },
  {
   "cell_type": "code",
   "execution_count": null,
   "metadata": {},
   "outputs": [],
   "source": [
    "# Make predictions for the test set\n",
    "yc_pred_test = rfc.predict(test_allvars)\n",
    "# Add 1 to be able to do the division for MAPE \n",
    "yc_pred_test1=yc_pred_test+1 \n",
    "test_labels1=test_labels+1"
   ]
  },
  {
   "cell_type": "code",
   "execution_count": null,
   "metadata": {},
   "outputs": [],
   "source": [
    "# Calculate the absolute errors\n",
    "errorsc = abs(yc_pred_test1 - test_labels1)\n",
    "# Print out the mean absolute error (mae)\n",
    "print('Mean Absolute Error:', round(np.mean(errorsc), 2))"
   ]
  },
  {
   "cell_type": "code",
   "execution_count": null,
   "metadata": {},
   "outputs": [],
   "source": [
    "\n",
    "# Calculate mean absolute percentage error (MAPE)\n",
    "mapec = 100 * (errorsc / test_labels1)\n",
    "# Calculate and display accuracy\n",
    "accuracyc = 100 - np.mean(mapec)\n",
    "print('Accuracy:', round(accuracyc, 2), '%.')"
   ]
  },
  {
   "cell_type": "code",
   "execution_count": null,
   "metadata": {},
   "outputs": [],
   "source": [
    "print('Parameters currently in use:\\n')\n",
    "pprint(rfc.get_params())"
   ]
  },
  {
   "cell_type": "code",
   "execution_count": null,
   "metadata": {},
   "outputs": [],
   "source": [
    "# View confusion matrix for test data and predictions\n",
    "confusion_matrix(test_labels, yc_pred_test)"
   ]
  },
  {
   "cell_type": "code",
   "execution_count": null,
   "metadata": {},
   "outputs": [],
   "source": [
    "# Get and reshape confusion matrix data\n",
    "matrix = confusion_matrix(test_labels, yc_pred_test)\n",
    "matrix = matrix.astype('float') / matrix.sum(axis=1)[:, np.newaxis]\n",
    "\n",
    "# Build the plot\n",
    "plt.figure(figsize=(16,7))\n",
    "sns.set(font_scale=1.4)\n",
    "sns.heatmap(matrix, annot=True, annot_kws={'size':10},\n",
    "            cmap=plt.cm.Greens, linewidths=0.2)\n",
    "\n",
    "# Add labels to the plot\n",
    "class_names = ['90th Percentile','Moderate', 'Strong', 'Severe', \n",
    "               'Extreme']\n",
    "tick_marks = np.arange(len(class_names))\n",
    "tick_marks2 = tick_marks + 0.5\n",
    "plt.xticks(tick_marks, class_names, rotation=25)\n",
    "plt.yticks(tick_marks2, class_names, rotation=0)\n",
    "plt.xlabel('Predicted label')\n",
    "plt.ylabel('True label')\n",
    "plt.title('Confusion Matrix for Random Forest Model')\n",
    "plt.show()"
   ]
  },
  {
   "cell_type": "code",
   "execution_count": null,
   "metadata": {},
   "outputs": [],
   "source": [
    "print(classification_report(test_labels, yc_pred_test))"
   ]
  }
 ],
 "metadata": {
  "kernelspec": {
   "display_name": "Python 3",
   "language": "python",
   "name": "python3"
  },
  "language_info": {
   "codemirror_mode": {
    "name": "ipython",
    "version": 3
   },
   "file_extension": ".py",
   "mimetype": "text/x-python",
   "name": "python",
   "nbconvert_exporter": "python",
   "pygments_lexer": "ipython3",
   "version": "3.7.3"
  }
 },
 "nbformat": 4,
 "nbformat_minor": 2
}
