{
 "cells": [
  {
   "cell_type": "code",
   "execution_count": 62,
   "metadata": {
    "scrolled": true
   },
   "outputs": [],
   "source": [
    "import matplotlib.pyplot as plt\n",
    "import numpy as np\n",
    "import xarray as xr\n",
    "import netCDF4 as nc\n",
    "import pandas as pd\n",
    "import os \n",
    "\n",
    "%matplotlib inline\n",
    "\n",
    "# Using Skicit-learn to split data into training and testing sets\n",
    "# Split arrays or matrices into random train and test subsets\n",
    "from sklearn.model_selection import train_test_split\n",
    "from sklearn.model_selection import KFold \n",
    "from sklearn.ensemble import RandomForestClassifier\n",
    "from pprint import pprint\n",
    "from sklearn.model_selection import RandomizedSearchCV\n",
    "from sklearn.metrics import accuracy_score, confusion_matrix, classification_report\n",
    "import seaborn as sns\n",
    "from sklearn.externals import joblib\n",
    "from sklearn import metrics\n",
    "from sklearn.preprocessing import label_binarize\n",
    "from sklearn.metrics import precision_recall_curve\n",
    "from sklearn.metrics import average_precision_score\n",
    "from itertools import cycle"
   ]
  },
  {
   "cell_type": "markdown",
   "metadata": {},
   "source": [
    "# Data Preparation"
   ]
  },
  {
   "cell_type": "code",
   "execution_count": 63,
   "metadata": {},
   "outputs": [],
   "source": [
    "# Load unbalanced raw dataset\n",
    "file_unbal ='/auto/home/agiamala/rf_mhw/mat_unbalanced.csv'\n",
    "mat_unbal = pd.read_csv(file_unbal, header = None)\n",
    "mat_unbal.columns = ['day', 'month','year','doy', 'lon', 'lat', 'Qnet','slp', 'sat', 'wind_speed','sst', 'sstRoC', 'mhw_categories']"
   ]
  },
  {
   "cell_type": "code",
   "execution_count": 64,
   "metadata": {
    "scrolled": true
   },
   "outputs": [
    {
     "data": {
      "text/html": [
       "<div>\n",
       "<style scoped>\n",
       "    .dataframe tbody tr th:only-of-type {\n",
       "        vertical-align: middle;\n",
       "    }\n",
       "\n",
       "    .dataframe tbody tr th {\n",
       "        vertical-align: top;\n",
       "    }\n",
       "\n",
       "    .dataframe thead th {\n",
       "        text-align: right;\n",
       "    }\n",
       "</style>\n",
       "<table border=\"1\" class=\"dataframe\">\n",
       "  <thead>\n",
       "    <tr style=\"text-align: right;\">\n",
       "      <th></th>\n",
       "      <th>day</th>\n",
       "      <th>month</th>\n",
       "      <th>year</th>\n",
       "      <th>doy</th>\n",
       "      <th>lon</th>\n",
       "      <th>lat</th>\n",
       "      <th>Qnet</th>\n",
       "      <th>slp</th>\n",
       "      <th>sat</th>\n",
       "      <th>wind_speed</th>\n",
       "      <th>sst</th>\n",
       "      <th>sstRoC</th>\n",
       "      <th>mhw_categories</th>\n",
       "    </tr>\n",
       "  </thead>\n",
       "  <tbody>\n",
       "    <tr>\n",
       "      <th>0</th>\n",
       "      <td>1</td>\n",
       "      <td>1</td>\n",
       "      <td>1982</td>\n",
       "      <td>1</td>\n",
       "      <td>187.625</td>\n",
       "      <td>12.625</td>\n",
       "      <td>0.731018</td>\n",
       "      <td>-568.700000</td>\n",
       "      <td>11.166991</td>\n",
       "      <td>-0.726035</td>\n",
       "      <td>0.932887</td>\n",
       "      <td>-0.209477</td>\n",
       "      <td>0</td>\n",
       "    </tr>\n",
       "    <tr>\n",
       "      <th>1</th>\n",
       "      <td>1</td>\n",
       "      <td>1</td>\n",
       "      <td>1982</td>\n",
       "      <td>1</td>\n",
       "      <td>190.125</td>\n",
       "      <td>12.625</td>\n",
       "      <td>-0.864615</td>\n",
       "      <td>-319.066667</td>\n",
       "      <td>11.553665</td>\n",
       "      <td>0.309211</td>\n",
       "      <td>1.372802</td>\n",
       "      <td>-0.397347</td>\n",
       "      <td>0</td>\n",
       "    </tr>\n",
       "    <tr>\n",
       "      <th>2</th>\n",
       "      <td>1</td>\n",
       "      <td>1</td>\n",
       "      <td>1982</td>\n",
       "      <td>1</td>\n",
       "      <td>192.625</td>\n",
       "      <td>12.625</td>\n",
       "      <td>2.299962</td>\n",
       "      <td>-81.166667</td>\n",
       "      <td>11.784982</td>\n",
       "      <td>0.700121</td>\n",
       "      <td>1.124733</td>\n",
       "      <td>-0.328405</td>\n",
       "      <td>0</td>\n",
       "    </tr>\n",
       "    <tr>\n",
       "      <th>3</th>\n",
       "      <td>1</td>\n",
       "      <td>1</td>\n",
       "      <td>1982</td>\n",
       "      <td>1</td>\n",
       "      <td>195.125</td>\n",
       "      <td>12.625</td>\n",
       "      <td>25.466551</td>\n",
       "      <td>154.533333</td>\n",
       "      <td>11.476991</td>\n",
       "      <td>0.710585</td>\n",
       "      <td>1.013936</td>\n",
       "      <td>-0.153395</td>\n",
       "      <td>0</td>\n",
       "    </tr>\n",
       "    <tr>\n",
       "      <th>4</th>\n",
       "      <td>1</td>\n",
       "      <td>1</td>\n",
       "      <td>1982</td>\n",
       "      <td>1</td>\n",
       "      <td>197.625</td>\n",
       "      <td>12.625</td>\n",
       "      <td>56.970769</td>\n",
       "      <td>390.033333</td>\n",
       "      <td>9.841682</td>\n",
       "      <td>1.007320</td>\n",
       "      <td>0.784534</td>\n",
       "      <td>-0.025855</td>\n",
       "      <td>0</td>\n",
       "    </tr>\n",
       "  </tbody>\n",
       "</table>\n",
       "</div>"
      ],
      "text/plain": [
       "   day  month  year  doy      lon     lat       Qnet         slp        sat  \\\n",
       "0    1      1  1982    1  187.625  12.625   0.731018 -568.700000  11.166991   \n",
       "1    1      1  1982    1  190.125  12.625  -0.864615 -319.066667  11.553665   \n",
       "2    1      1  1982    1  192.625  12.625   2.299962  -81.166667  11.784982   \n",
       "3    1      1  1982    1  195.125  12.625  25.466551  154.533333  11.476991   \n",
       "4    1      1  1982    1  197.625  12.625  56.970769  390.033333   9.841682   \n",
       "\n",
       "   wind_speed       sst    sstRoC  mhw_categories  \n",
       "0   -0.726035  0.932887 -0.209477               0  \n",
       "1    0.309211  1.372802 -0.397347               0  \n",
       "2    0.700121  1.124733 -0.328405               0  \n",
       "3    0.710585  1.013936 -0.153395               0  \n",
       "4    1.007320  0.784534 -0.025855               0  "
      ]
     },
     "execution_count": 64,
     "metadata": {},
     "output_type": "execute_result"
    }
   ],
   "source": [
    "mat_unbal.head()"
   ]
  },
  {
   "cell_type": "code",
   "execution_count": 65,
   "metadata": {},
   "outputs": [],
   "source": [
    "# Select unbalanced test dataset 2017-2018\n",
    "valid_data = mat_unbal[(mat_unbal[\"year\"] == 2017) | (mat_unbal[\"year\"] == 2018) | (mat_unbal[\"year\"] == 2019)]"
   ]
  },
  {
   "cell_type": "code",
   "execution_count": 66,
   "metadata": {},
   "outputs": [
    {
     "data": {
      "text/html": [
       "<div>\n",
       "<style scoped>\n",
       "    .dataframe tbody tr th:only-of-type {\n",
       "        vertical-align: middle;\n",
       "    }\n",
       "\n",
       "    .dataframe tbody tr th {\n",
       "        vertical-align: top;\n",
       "    }\n",
       "\n",
       "    .dataframe thead th {\n",
       "        text-align: right;\n",
       "    }\n",
       "</style>\n",
       "<table border=\"1\" class=\"dataframe\">\n",
       "  <thead>\n",
       "    <tr style=\"text-align: right;\">\n",
       "      <th></th>\n",
       "      <th>day</th>\n",
       "      <th>month</th>\n",
       "      <th>year</th>\n",
       "      <th>doy</th>\n",
       "      <th>lon</th>\n",
       "      <th>lat</th>\n",
       "      <th>Qnet</th>\n",
       "      <th>slp</th>\n",
       "      <th>sat</th>\n",
       "      <th>wind_speed</th>\n",
       "      <th>sst</th>\n",
       "      <th>sstRoC</th>\n",
       "      <th>mhw_categories</th>\n",
       "    </tr>\n",
       "  </thead>\n",
       "  <tbody>\n",
       "    <tr>\n",
       "      <th>5113600</th>\n",
       "      <td>1</td>\n",
       "      <td>1</td>\n",
       "      <td>2017</td>\n",
       "      <td>1</td>\n",
       "      <td>187.625</td>\n",
       "      <td>12.625</td>\n",
       "      <td>116.213735</td>\n",
       "      <td>-501.200000</td>\n",
       "      <td>13.586974</td>\n",
       "      <td>8.482409</td>\n",
       "      <td>0.416275</td>\n",
       "      <td>-0.003609</td>\n",
       "      <td>0</td>\n",
       "    </tr>\n",
       "    <tr>\n",
       "      <th>5113601</th>\n",
       "      <td>1</td>\n",
       "      <td>1</td>\n",
       "      <td>2017</td>\n",
       "      <td>1</td>\n",
       "      <td>190.125</td>\n",
       "      <td>12.625</td>\n",
       "      <td>129.859558</td>\n",
       "      <td>10.933333</td>\n",
       "      <td>13.753677</td>\n",
       "      <td>9.436665</td>\n",
       "      <td>0.475611</td>\n",
       "      <td>0.011909</td>\n",
       "      <td>0</td>\n",
       "    </tr>\n",
       "    <tr>\n",
       "      <th>5113602</th>\n",
       "      <td>1</td>\n",
       "      <td>1</td>\n",
       "      <td>2017</td>\n",
       "      <td>1</td>\n",
       "      <td>192.625</td>\n",
       "      <td>12.625</td>\n",
       "      <td>130.422035</td>\n",
       "      <td>521.333333</td>\n",
       "      <td>14.000009</td>\n",
       "      <td>9.510640</td>\n",
       "      <td>0.472171</td>\n",
       "      <td>-0.013364</td>\n",
       "      <td>0</td>\n",
       "    </tr>\n",
       "    <tr>\n",
       "      <th>5113603</th>\n",
       "      <td>1</td>\n",
       "      <td>1</td>\n",
       "      <td>2017</td>\n",
       "      <td>1</td>\n",
       "      <td>195.125</td>\n",
       "      <td>12.625</td>\n",
       "      <td>103.499882</td>\n",
       "      <td>1011.533333</td>\n",
       "      <td>14.821992</td>\n",
       "      <td>8.186876</td>\n",
       "      <td>0.308234</td>\n",
       "      <td>0.038589</td>\n",
       "      <td>0</td>\n",
       "    </tr>\n",
       "    <tr>\n",
       "      <th>5113604</th>\n",
       "      <td>1</td>\n",
       "      <td>1</td>\n",
       "      <td>2017</td>\n",
       "      <td>1</td>\n",
       "      <td>197.625</td>\n",
       "      <td>12.625</td>\n",
       "      <td>59.395534</td>\n",
       "      <td>1457.033333</td>\n",
       "      <td>15.761665</td>\n",
       "      <td>6.305441</td>\n",
       "      <td>0.287014</td>\n",
       "      <td>-0.044616</td>\n",
       "      <td>0</td>\n",
       "    </tr>\n",
       "  </tbody>\n",
       "</table>\n",
       "</div>"
      ],
      "text/plain": [
       "         day  month  year  doy      lon     lat        Qnet          slp  \\\n",
       "5113600    1      1  2017    1  187.625  12.625  116.213735  -501.200000   \n",
       "5113601    1      1  2017    1  190.125  12.625  129.859558    10.933333   \n",
       "5113602    1      1  2017    1  192.625  12.625  130.422035   521.333333   \n",
       "5113603    1      1  2017    1  195.125  12.625  103.499882  1011.533333   \n",
       "5113604    1      1  2017    1  197.625  12.625   59.395534  1457.033333   \n",
       "\n",
       "               sat  wind_speed       sst    sstRoC  mhw_categories  \n",
       "5113600  13.586974    8.482409  0.416275 -0.003609               0  \n",
       "5113601  13.753677    9.436665  0.475611  0.011909               0  \n",
       "5113602  14.000009    9.510640  0.472171 -0.013364               0  \n",
       "5113603  14.821992    8.186876  0.308234  0.038589               0  \n",
       "5113604  15.761665    6.305441  0.287014 -0.044616               0  "
      ]
     },
     "execution_count": 66,
     "metadata": {},
     "output_type": "execute_result"
    }
   ],
   "source": [
    "valid_data.head()"
   ]
  },
  {
   "cell_type": "code",
   "execution_count": 67,
   "metadata": {},
   "outputs": [
    {
     "data": {
      "text/plain": [
       "(437600, 13)"
      ]
     },
     "execution_count": 67,
     "metadata": {},
     "output_type": "execute_result"
    }
   ],
   "source": [
    "valid_data.shape"
   ]
  },
  {
   "cell_type": "code",
   "execution_count": 68,
   "metadata": {
    "scrolled": false
   },
   "outputs": [
    {
     "name": "stderr",
     "output_type": "stream",
     "text": [
      "/soft/anaconda/python3/2019.03/CentOS_7/lib/python3.7/site-packages/ipykernel_launcher.py:2: SettingWithCopyWarning: \n",
      "A value is trying to be set on a copy of a slice from a DataFrame.\n",
      "Try using .loc[row_indexer,col_indexer] = value instead\n",
      "\n",
      "See the caveats in the documentation: http://pandas.pydata.org/pandas-docs/stable/indexing.html#indexing-view-versus-copy\n",
      "  \n"
     ]
    }
   ],
   "source": [
    "# Merge severe and extreme MHW categories\n",
    "valid_data[\"mhw_categories\"] = valid_data[\"mhw_categories\"].replace(4,3)"
   ]
  },
  {
   "cell_type": "code",
   "execution_count": 69,
   "metadata": {},
   "outputs": [
    {
     "data": {
      "text/plain": [
       "['doy', 'lon', 'lat', 'Qnet', 'slp', 'sat', 'wind_speed', 'sst']"
      ]
     },
     "execution_count": 69,
     "metadata": {},
     "output_type": "execute_result"
    }
   ],
   "source": [
    "labels_valid = np.array(valid_data['mhw_categories'])\n",
    "\n",
    "# Remove the labels from the features\n",
    "# axis 1 refers to the columns\n",
    "valid_data= valid_data.drop('mhw_categories', axis = 1)\n",
    "valid_data= valid_data.drop('year', axis = 1)\n",
    "valid_data= valid_data.drop('sstRoC', axis = 1)\n",
    "valid_data= valid_data.drop('day', axis = 1)\n",
    "valid_data= valid_data.drop('month', axis = 1)\n",
    "\n",
    "# Saving feature names for later use\n",
    "valid_data_list = list(valid_data.columns)\n",
    "valid_data_list"
   ]
  },
  {
   "cell_type": "code",
   "execution_count": 70,
   "metadata": {
    "scrolled": true
   },
   "outputs": [
    {
     "name": "stdout",
     "output_type": "stream",
     "text": [
      "(437600, 8)\n",
      "(437600,)\n"
     ]
    }
   ],
   "source": [
    "print(valid_data.shape)\n",
    "print(labels_valid.shape)"
   ]
  },
  {
   "cell_type": "code",
   "execution_count": 71,
   "metadata": {},
   "outputs": [],
   "source": [
    "# Load balanced training dataset - 7 days lag\n",
    "file_name = '/auto/home/agiamala/rf_mhw/movav_7_19new.csv'\n",
    "colnames = ['day', 'month','year','doy', 'lon', 'lat', 'Qnet','slp', 'sat', 'wind_speed','sst', 'sstRoC', 'mhw_categories']\n",
    "allvars = pd.read_csv(file_name, names = colnames, header = None)"
   ]
  },
  {
   "cell_type": "code",
   "execution_count": 72,
   "metadata": {
    "scrolled": false
   },
   "outputs": [
    {
     "data": {
      "text/html": [
       "<div>\n",
       "<style scoped>\n",
       "    .dataframe tbody tr th:only-of-type {\n",
       "        vertical-align: middle;\n",
       "    }\n",
       "\n",
       "    .dataframe tbody tr th {\n",
       "        vertical-align: top;\n",
       "    }\n",
       "\n",
       "    .dataframe thead th {\n",
       "        text-align: right;\n",
       "    }\n",
       "</style>\n",
       "<table border=\"1\" class=\"dataframe\">\n",
       "  <thead>\n",
       "    <tr style=\"text-align: right;\">\n",
       "      <th></th>\n",
       "      <th>day</th>\n",
       "      <th>month</th>\n",
       "      <th>year</th>\n",
       "      <th>doy</th>\n",
       "      <th>lon</th>\n",
       "      <th>lat</th>\n",
       "      <th>Qnet</th>\n",
       "      <th>slp</th>\n",
       "      <th>sat</th>\n",
       "      <th>wind_speed</th>\n",
       "      <th>sst</th>\n",
       "      <th>sstRoC</th>\n",
       "      <th>mhw_categories</th>\n",
       "    </tr>\n",
       "  </thead>\n",
       "  <tbody>\n",
       "    <tr>\n",
       "      <th>0</th>\n",
       "      <td>10</td>\n",
       "      <td>2</td>\n",
       "      <td>1982</td>\n",
       "      <td>41</td>\n",
       "      <td>187.625</td>\n",
       "      <td>12.625</td>\n",
       "      <td>-79.213716</td>\n",
       "      <td>2949.542857</td>\n",
       "      <td>10.767043</td>\n",
       "      <td>-3.728152</td>\n",
       "      <td>0.265203</td>\n",
       "      <td>0.150431</td>\n",
       "      <td>1</td>\n",
       "    </tr>\n",
       "    <tr>\n",
       "      <th>1</th>\n",
       "      <td>10</td>\n",
       "      <td>2</td>\n",
       "      <td>1983</td>\n",
       "      <td>41</td>\n",
       "      <td>187.625</td>\n",
       "      <td>12.625</td>\n",
       "      <td>3.192713</td>\n",
       "      <td>-295.028571</td>\n",
       "      <td>-4.065812</td>\n",
       "      <td>0.868601</td>\n",
       "      <td>-0.602023</td>\n",
       "      <td>-0.124350</td>\n",
       "      <td>0</td>\n",
       "    </tr>\n",
       "    <tr>\n",
       "      <th>2</th>\n",
       "      <td>10</td>\n",
       "      <td>2</td>\n",
       "      <td>1984</td>\n",
       "      <td>41</td>\n",
       "      <td>187.625</td>\n",
       "      <td>12.625</td>\n",
       "      <td>47.031827</td>\n",
       "      <td>396.257143</td>\n",
       "      <td>-14.952954</td>\n",
       "      <td>0.340358</td>\n",
       "      <td>0.379748</td>\n",
       "      <td>-0.023807</td>\n",
       "      <td>0</td>\n",
       "    </tr>\n",
       "    <tr>\n",
       "      <th>3</th>\n",
       "      <td>11</td>\n",
       "      <td>2</td>\n",
       "      <td>1982</td>\n",
       "      <td>42</td>\n",
       "      <td>187.625</td>\n",
       "      <td>12.625</td>\n",
       "      <td>-87.227386</td>\n",
       "      <td>2960.114286</td>\n",
       "      <td>8.415328</td>\n",
       "      <td>-4.296191</td>\n",
       "      <td>0.415634</td>\n",
       "      <td>0.041128</td>\n",
       "      <td>1</td>\n",
       "    </tr>\n",
       "    <tr>\n",
       "      <th>4</th>\n",
       "      <td>11</td>\n",
       "      <td>2</td>\n",
       "      <td>1983</td>\n",
       "      <td>42</td>\n",
       "      <td>187.625</td>\n",
       "      <td>12.625</td>\n",
       "      <td>22.198146</td>\n",
       "      <td>-97.742857</td>\n",
       "      <td>-4.807524</td>\n",
       "      <td>1.065265</td>\n",
       "      <td>-0.726373</td>\n",
       "      <td>-0.132473</td>\n",
       "      <td>0</td>\n",
       "    </tr>\n",
       "  </tbody>\n",
       "</table>\n",
       "</div>"
      ],
      "text/plain": [
       "   day  month  year  doy      lon     lat       Qnet          slp        sat  \\\n",
       "0   10      2  1982   41  187.625  12.625 -79.213716  2949.542857  10.767043   \n",
       "1   10      2  1983   41  187.625  12.625   3.192713  -295.028571  -4.065812   \n",
       "2   10      2  1984   41  187.625  12.625  47.031827   396.257143 -14.952954   \n",
       "3   11      2  1982   42  187.625  12.625 -87.227386  2960.114286   8.415328   \n",
       "4   11      2  1983   42  187.625  12.625  22.198146   -97.742857  -4.807524   \n",
       "\n",
       "   wind_speed       sst    sstRoC  mhw_categories  \n",
       "0   -3.728152  0.265203  0.150431               1  \n",
       "1    0.868601 -0.602023 -0.124350               0  \n",
       "2    0.340358  0.379748 -0.023807               0  \n",
       "3   -4.296191  0.415634  0.041128               1  \n",
       "4    1.065265 -0.726373 -0.132473               0  "
      ]
     },
     "execution_count": 72,
     "metadata": {},
     "output_type": "execute_result"
    }
   ],
   "source": [
    "allvars.head()"
   ]
  },
  {
   "cell_type": "code",
   "execution_count": 73,
   "metadata": {
    "scrolled": true
   },
   "outputs": [],
   "source": [
    "# Merge severe and extreme MHW categories\n",
    "allvars[\"mhw_categories\"] = allvars[\"mhw_categories\"].replace(4,3)"
   ]
  },
  {
   "cell_type": "code",
   "execution_count": 74,
   "metadata": {},
   "outputs": [],
   "source": [
    "allvars = allvars.drop(allvars.index[(allvars[\"year\"] == 2017) | (allvars[\"year\"] == 2018) | (allvars[\"year\"] == 2019)], axis=0) "
   ]
  },
  {
   "cell_type": "code",
   "execution_count": 75,
   "metadata": {},
   "outputs": [
    {
     "data": {
      "text/plain": [
       "(869927, 13)"
      ]
     },
     "execution_count": 75,
     "metadata": {},
     "output_type": "execute_result"
    }
   ],
   "source": [
    "allvars.shape"
   ]
  },
  {
   "cell_type": "code",
   "execution_count": 76,
   "metadata": {},
   "outputs": [
    {
     "data": {
      "text/plain": [
       "['doy', 'lon', 'lat', 'Qnet', 'slp', 'sat', 'wind_speed', 'sst']"
      ]
     },
     "execution_count": 76,
     "metadata": {},
     "output_type": "execute_result"
    }
   ],
   "source": [
    "# Labels are the values we want to predict\n",
    "labels = np.array(allvars['mhw_categories'])\n",
    "\n",
    "# Remove the labels from the features\n",
    "allvars = allvars.drop('mhw_categories', axis = 1)\n",
    "allvars = allvars.drop('year', axis = 1)\n",
    "allvars = allvars.drop('sstRoC', axis = 1)\n",
    "allvars = allvars.drop('day', axis = 1)\n",
    "allvars = allvars.drop('month', axis = 1)\n",
    "\n",
    "# Saving feature names for later use\n",
    "allvars_list = list(allvars.columns)\n",
    "allvars_list"
   ]
  },
  {
   "cell_type": "code",
   "execution_count": 77,
   "metadata": {},
   "outputs": [],
   "source": [
    "# Convert to numpy array\n",
    "allvars = np.array(allvars)"
   ]
  },
  {
   "cell_type": "code",
   "execution_count": 78,
   "metadata": {},
   "outputs": [
    {
     "data": {
      "text/plain": [
       "(869927, 8)"
      ]
     },
     "execution_count": 78,
     "metadata": {},
     "output_type": "execute_result"
    }
   ],
   "source": [
    "allvars.shape"
   ]
  },
  {
   "cell_type": "code",
   "execution_count": 79,
   "metadata": {},
   "outputs": [],
   "source": [
    "train_allvars = allvars\n",
    "train_labels = labels"
   ]
  },
  {
   "cell_type": "code",
   "execution_count": 19,
   "metadata": {},
   "outputs": [],
   "source": [
    "# Split the data into training and testing sets\n",
    "# the random_state parameter is used for initializing the internal random number generator, \n",
    "# which will decide the splitting of data into train and test indices.\n",
    "#train_allvars, test_allvars, train_labels, test_labels = train_test_split(allvars, labels, test_size = 0.0, random_state = 42)"
   ]
  },
  {
   "cell_type": "code",
   "execution_count": 80,
   "metadata": {
    "scrolled": true
   },
   "outputs": [
    {
     "name": "stdout",
     "output_type": "stream",
     "text": [
      "Training allvars Shape: (869927, 8)\n",
      "Training Labels Shape: (869927,)\n"
     ]
    }
   ],
   "source": [
    "print('Training allvars Shape:', train_allvars.shape)\n",
    "print('Training Labels Shape:', train_labels.shape)\n",
    "#print('Testing allvars Shape:', test_allvars.shape)\n",
    "#print('Testing Labels Shape:', test_labels.shape)"
   ]
  },
  {
   "cell_type": "markdown",
   "metadata": {},
   "source": [
    "# Randomized Cross Validation"
   ]
  },
  {
   "cell_type": "code",
   "execution_count": null,
   "metadata": {},
   "outputs": [],
   "source": [
    "# Number of trees in random forest\n",
    "n_estimators = [int(x) for x in np.linspace(start = 200, stop = 1000, num = 9)]\n",
    "# Number of features to consider at every split\n",
    "max_features = ['auto', 'sqrt']\n",
    "# Maximum number of levels in tree\n",
    "max_depth = [int(x) for x in np.linspace(10, 110, num = 11)]\n",
    "max_depth.append(None)\n",
    "# Minimum number of samples required to split a node\n",
    "min_samples_split = [2, 5, 10]\n",
    "# Minimum number of samples required at each leaf node\n",
    "min_samples_leaf = [1, 2, 4]\n",
    "# Method of selecting samples for training each tree\n",
    "bootstrap = [True, False]\n",
    "# Create the random grid\n",
    "random_grid = {'n_estimators': n_estimators,\n",
    "               'max_features': max_features,\n",
    "               'max_depth': max_depth,\n",
    "               'min_samples_split': min_samples_split,\n",
    "               'min_samples_leaf': min_samples_leaf,\n",
    "               'bootstrap': bootstrap}\n",
    "pprint(random_grid)"
   ]
  },
  {
   "cell_type": "code",
   "execution_count": null,
   "metadata": {},
   "outputs": [],
   "source": [
    "# Use the random grid to search for best hyperparameters\n",
    "# First create the base model to tune\n",
    "rf = RandomForestClassifier()\n",
    "# Random search of parameters, using 3 fold cross validation, \n",
    "# search across 100 different combinations, and use all available cores\n",
    "rf_random = RandomizedSearchCV(estimator = rf, param_distributions = random_grid, n_iter = 100, cv = 3, verbose=2, random_state=42, n_jobs = 3)\n",
    "# Fit the random search model\n",
    "rf_random.fit(train_allvars, train_labels)"
   ]
  },
  {
   "cell_type": "code",
   "execution_count": null,
   "metadata": {},
   "outputs": [],
   "source": [
    "rf_randomCV.best_estimator_"
   ]
  },
  {
   "cell_type": "code",
   "execution_count": null,
   "metadata": {},
   "outputs": [],
   "source": [
    "# *** Not working ***\n",
    "\n",
    "rf_randomCV.cv_results_"
   ]
  },
  {
   "cell_type": "code",
   "execution_count": null,
   "metadata": {},
   "outputs": [],
   "source": [
    "# Get CV results\n",
    "\n",
    "rf_random.best_params_\n",
    "df_cv_results = pd.DataFrame(rf_random.cv_results_)\n",
    "df_cv_results.head()"
   ]
  },
  {
   "cell_type": "code",
   "execution_count": null,
   "metadata": {},
   "outputs": [],
   "source": [
    "# Define evaluation means function\n",
    "def evaluate(model, valid_data, labels_valid):\n",
    "    predictions = model.predict(valid_data)\n",
    "    predictions1 = predictions + 1 \n",
    "    test_labels1 = labels_valid + 1\n",
    "    errors = abs(predictions1 - test_labels1)\n",
    "    mape = 100 * np.mean(errors / test_labels1)\n",
    "    accuracy = 100 - mape\n",
    "    print('Model Performance')\n",
    "    print('Average Error: {:0.4f} degrees.'.format(np.mean(errors)))\n",
    "    print('Accuracy = {:0.2f}%.'.format(accuracy))\n",
    "    \n",
    "    return accuracy"
   ]
  },
  {
   "cell_type": "code",
   "execution_count": null,
   "metadata": {},
   "outputs": [],
   "source": [
    "# Evaluate best model against base model\n",
    "base_model = RandomForestClassifier(n_estimators = 10, random_state = 42)\n",
    "base_model.fit(train_allvars, train_labels)\n",
    "base_accuracy = evaluate(base_model, valid_data, labels_valid)\n",
    "\n",
    "best_random = rf_random.best_estimator_\n",
    "random_accuracy = evaluate(best_random, valid_data, labels_valid)\n",
    "\n",
    "print('Improvement of {:0.2f}%.'.format( 100 * (random_accuracy - base_accuracy) / base_accuracy))"
   ]
  },
  {
   "cell_type": "code",
   "execution_count": null,
   "metadata": {},
   "outputs": [],
   "source": [
    "# Save -- too large file \n",
    "# joblib.dump(rf_randomCV, 'rf_randomCV_last.pkl')"
   ]
  },
  {
   "cell_type": "markdown",
   "metadata": {},
   "source": [
    "# Random Forest\n",
    "# Run RF with best model identified by CV "
   ]
  },
  {
   "cell_type": "code",
   "execution_count": 106,
   "metadata": {},
   "outputs": [],
   "source": [
    "# Assign weights - default for 0s and 1s and double weighting for 2s and 3s\n",
    "weights = {0:1.0, 1:1.0, 2:2.0, 3:2.0}\n",
    "\n",
    "# Instantiate model with N decision trees\n",
    "rfc = RandomForestClassifier(n_estimators = 200, class_weight=weights, bootstrap=False , min_samples_split=2, min_samples_leaf=1, max_features=\"sqrt\", random_state = 42, max_depth=80, oob_score=False)\n",
    "\n",
    "# Train the model on training data\n",
    "rfc.fit(train_allvars, train_labels);"
   ]
  },
  {
   "cell_type": "code",
   "execution_count": 107,
   "metadata": {
    "scrolled": true
   },
   "outputs": [
    {
     "name": "stdout",
     "output_type": "stream",
     "text": [
      "Score against train set:  1.0\n",
      "Score against test set:  0.643896252285192\n"
     ]
    }
   ],
   "source": [
    "print('Score against train set: ', rfc.score(train_allvars, train_labels))\n",
    "# print('OOB Score: ', rfc.oob_score_) # only if bootstrap=True\n",
    "print('Score against test set: ', rfc.score(valid_data, labels_valid))"
   ]
  },
  {
   "cell_type": "code",
   "execution_count": 108,
   "metadata": {},
   "outputs": [],
   "source": [
    "# Make predictions for the test set\n",
    "yc_pred_test = rfc.predict(valid_data)\n",
    "\n",
    "# Add 1 to be able to do the division for MAPE \n",
    "yc_pred_test1 = yc_pred_test + 1\n",
    "test_labels1 = labels_valid + 1"
   ]
  },
  {
   "cell_type": "code",
   "execution_count": 109,
   "metadata": {},
   "outputs": [
    {
     "name": "stdout",
     "output_type": "stream",
     "text": [
      "Mean Absolute Error: 0.4\n"
     ]
    }
   ],
   "source": [
    "# Calculate the absolute errors\n",
    "errorsc = abs(yc_pred_test1 - test_labels1)\n",
    "\n",
    "# Print out the mean absolute error (mae)\n",
    "print('Mean Absolute Error:', round(np.mean(errorsc), 2))"
   ]
  },
  {
   "cell_type": "code",
   "execution_count": 110,
   "metadata": {},
   "outputs": [
    {
     "name": "stdout",
     "output_type": "stream",
     "text": [
      "Accuracy: 70.02 %.\n"
     ]
    }
   ],
   "source": [
    "# Calculate mean absolute percentage error (MAPE)\n",
    "mapec = 100 * (errorsc / test_labels1)\n",
    "# Calculate and display accuracy\n",
    "accuracyc = 100 - np.mean(mapec)\n",
    "print('Accuracy:', round(accuracyc, 2), '%.')"
   ]
  },
  {
   "cell_type": "code",
   "execution_count": 111,
   "metadata": {},
   "outputs": [
    {
     "data": {
      "text/plain": [
       "0.6490135936615259"
      ]
     },
     "execution_count": 111,
     "metadata": {},
     "output_type": "execute_result"
    }
   ],
   "source": [
    "# AUC\n",
    "false_positive_rate, true_positive_rate, thresholds = metrics.roc_curve(yc_pred_test1, labels_valid, pos_label=2)\n",
    "metrics.auc(false_positive_rate, true_positive_rate)"
   ]
  },
  {
   "cell_type": "code",
   "execution_count": 112,
   "metadata": {},
   "outputs": [
    {
     "name": "stdout",
     "output_type": "stream",
     "text": [
      "Parameters currently in use:\n",
      "\n",
      "{'bootstrap': False,\n",
      " 'class_weight': {0: 1.0, 1: 1.0, 2: 2.0, 3: 2.0},\n",
      " 'criterion': 'gini',\n",
      " 'max_depth': 80,\n",
      " 'max_features': 'sqrt',\n",
      " 'max_leaf_nodes': None,\n",
      " 'min_impurity_decrease': 0.0,\n",
      " 'min_impurity_split': None,\n",
      " 'min_samples_leaf': 1,\n",
      " 'min_samples_split': 2,\n",
      " 'min_weight_fraction_leaf': 0.0,\n",
      " 'n_estimators': 200,\n",
      " 'n_jobs': None,\n",
      " 'oob_score': False,\n",
      " 'random_state': 42,\n",
      " 'verbose': 0,\n",
      " 'warm_start': False}\n"
     ]
    }
   ],
   "source": [
    "print('Parameters currently in use:\\n')\n",
    "pprint(rfc.get_params())"
   ]
  },
  {
   "cell_type": "code",
   "execution_count": 113,
   "metadata": {},
   "outputs": [
    {
     "data": {
      "text/plain": [
       "array([[240167,  90610,   6926,    407],\n",
       "       [ 14248,  35815,   6499,    514],\n",
       "       [  5349,  26338,   5774,    468],\n",
       "       [   610,   2793,   1069,     13]])"
      ]
     },
     "execution_count": 113,
     "metadata": {},
     "output_type": "execute_result"
    }
   ],
   "source": [
    "# View confusion matrix for test data and predictions\n",
    "confusion_matrix(labels_valid, yc_pred_test)"
   ]
  },
  {
   "cell_type": "code",
   "execution_count": 114,
   "metadata": {},
   "outputs": [
    {
     "data": {
      "image/png": "[encoded data removed]",
      "text/plain": [
       "<Figure size 1152x504 with 2 Axes>"
      ]
     },
     "metadata": {},
     "output_type": "display_data"
    }
   ],
   "source": [
    "# Get and reshape confusion matrix data\n",
    "matrix = confusion_matrix(labels_valid, yc_pred_test)\n",
    "matrix = matrix.astype('float') / matrix.sum(axis=1)[:, np.newaxis]\n",
    "\n",
    "# Build the plot\n",
    "plt.figure(figsize=(16,7))\n",
    "sns.set(font_scale=1.4)\n",
    "sns.heatmap(matrix, annot=True, annot_kws={'size':14},\n",
    "            cmap=plt.cm.Greys, linewidths=0.2)\n",
    "\n",
    "# Add labels to the plot\n",
    "class_names = ['No Event','Moderate', 'Strong', 'Severe/Extreme'] # 'Severe','Extreme']\n",
    "#class_names = ['Absence', 'Presence']\n",
    "tick_marks = np.arange(len(class_names))\n",
    "tick_marks2 = tick_marks + 0.5\n",
    "plt.xticks(tick_marks, class_names, rotation=25)\n",
    "plt.yticks(tick_marks2, class_names, rotation=0)\n",
    "plt.xlabel('Predicted label')\n",
    "plt.ylabel('True label')\n",
    "plt.title('Confusion Matrix for Random Forest Model')\n",
    "plt.show()"
   ]
  },
  {
   "cell_type": "code",
   "execution_count": 115,
   "metadata": {
    "scrolled": true
   },
   "outputs": [
    {
     "name": "stdout",
     "output_type": "stream",
     "text": [
      "              precision    recall  f1-score   support\n",
      "\n",
      "           0       0.92      0.71      0.80    338110\n",
      "           1       0.23      0.63      0.34     57076\n",
      "           2       0.28      0.15      0.20     37929\n",
      "           3       0.01      0.00      0.00      4485\n",
      "\n",
      "   micro avg       0.64      0.64      0.64    437600\n",
      "   macro avg       0.36      0.37      0.34    437600\n",
      "weighted avg       0.77      0.64      0.68    437600\n",
      "\n"
     ]
    }
   ],
   "source": [
    "print(classification_report(labels_valid, yc_pred_test))"
   ]
  },
  {
   "cell_type": "code",
   "execution_count": 116,
   "metadata": {},
   "outputs": [
    {
     "name": "stdout",
     "output_type": "stream",
     "text": [
      "[0.13441475 0.09692968 0.08926498 0.09381866 0.09188692 0.09339515\n",
      " 0.08049325 0.31979661]\n"
     ]
    }
   ],
   "source": [
    "importances = rfc.feature_importances_\n",
    "print(importances)"
   ]
  },
  {
   "cell_type": "code",
   "execution_count": 117,
   "metadata": {},
   "outputs": [
    {
     "name": "stdout",
     "output_type": "stream",
     "text": [
      "Variable: sst                  Importance: 0.32\n",
      "Variable: doy                  Importance: 0.13\n",
      "Variable: lon                  Importance: 0.1\n",
      "Variable: lat                  Importance: 0.09\n",
      "Variable: Qnet                 Importance: 0.09\n",
      "Variable: slp                  Importance: 0.09\n",
      "Variable: sat                  Importance: 0.09\n",
      "Variable: wind_speed           Importance: 0.08\n"
     ]
    },
    {
     "data": {
      "image/png": "[encoded data removed]",
      "text/plain": [
       "<Figure size 432x288 with 1 Axes>"
      ]
     },
     "metadata": {},
     "output_type": "display_data"
    }
   ],
   "source": [
    "columns = ['doy', 'lon', 'lat', 'Qnet','slp', 'sat', 'wind_speed','sst']\n",
    "feature_list = list(columns)\n",
    "\n",
    "# Get numerical feature importances\n",
    "importances = list(rfc.feature_importances_)\n",
    "# List of tuples with variable and importance\n",
    "feature_importances = [(feature, round(importance, 2)) for feature, importance in zip(feature_list, importances)]\n",
    "# Sort the feature importances by most important first\n",
    "feature_importances = sorted(feature_importances, key = lambda x: x[1], reverse = True)\n",
    "# Print out the feature and importances \n",
    "[print('Variable: {:20} Importance: {}'.format(*pair)) for pair in feature_importances]\n",
    "\n",
    "# list of x locations for plotting\n",
    "x_values = list(range(len(importances)))\n",
    "# Make a bar chart\n",
    "plt.bar(x_values, importances, orientation = 'vertical', color = (0.5, 0.5, 0.5, 0.5), edgecolor = 'k', linewidth = 1.2)\n",
    "# Tick labels for x axis\n",
    "plt.xticks(x_values, feature_list, rotation = 'vertical')\n",
    "# Axis labels and title\n",
    "plt.ylabel('Importance'); plt.xlabel('Variable'); plt.title('Variable Importance');"
   ]
  },
  {
   "cell_type": "code",
   "execution_count": 118,
   "metadata": {},
   "outputs": [
    {
     "data": {
      "image/png": "[encoded data removed]",
      "text/plain": [
       "<Figure size 432x288 with 1 Axes>"
      ]
     },
     "metadata": {},
     "output_type": "display_data"
    }
   ],
   "source": [
    "# List of features sorted from most to least important\n",
    "sorted_importances = [importance[1] for importance in feature_importances]\n",
    "sorted_features = [importance[0] for importance in feature_importances]\n",
    "# Cumulative importances\n",
    "cumulative_importances = np.cumsum(sorted_importances)\n",
    "# Make a line graph\n",
    "plt.plot(x_values, cumulative_importances, 'k-')\n",
    "# Draw line at 95% of importance retained\n",
    "plt.hlines(y = 0.95, xmin=0, xmax=len(sorted_importances), color = 'r', linestyles = 'dashed')\n",
    "# Format x ticks and labels\n",
    "plt.xticks(x_values, sorted_features, rotation = 'vertical')\n",
    "# Axis labels and title\n",
    "plt.xlabel('Variable'); plt.ylabel('Cumulative Importance'); plt.title('Cumulative Importance');"
   ]
  },
  {
   "cell_type": "code",
   "execution_count": 119,
   "metadata": {},
   "outputs": [
    {
     "name": "stdout",
     "output_type": "stream",
     "text": [
      "4\n"
     ]
    }
   ],
   "source": [
    "# Use label_binarize to be multi-label like settings\n",
    "Y = label_binarize(labels_valid, classes=[0, 1, 2, 3])\n",
    "n_classes = Y.shape[1]\n",
    "\n",
    "print(n_classes)"
   ]
  },
  {
   "cell_type": "code",
   "execution_count": 120,
   "metadata": {},
   "outputs": [
    {
     "name": "stdout",
     "output_type": "stream",
     "text": [
      "Average precision score, micro-averaged over all classes: 0.76\n"
     ]
    }
   ],
   "source": [
    "lr_probs = rfc.predict_proba(valid_data)\n",
    "\n",
    "# For each class\n",
    "precision = dict()\n",
    "recall = dict()\n",
    "average_precision = dict()\n",
    "\n",
    "for i in range(n_classes):\n",
    "    precision[i], recall[i], _ = precision_recall_curve(Y[:, i],\n",
    "                                                        lr_probs[:, i])\n",
    "    average_precision[i] = average_precision_score(Y[:, i], lr_probs[:, i])\n",
    "\n",
    "# A \"micro-average\": quantifying score on all classes jointly\n",
    "precision[\"micro\"], recall[\"micro\"], _ = precision_recall_curve(Y.ravel(),\n",
    "    lr_probs.ravel())\n",
    "average_precision[\"micro\"] = average_precision_score(Y, lr_probs,\n",
    "                                                     average=\"micro\")\n",
    "print('Average precision score, micro-averaged over all classes: {0:0.2f}'\n",
    "      .format(average_precision[\"micro\"]))"
   ]
  },
  {
   "cell_type": "code",
   "execution_count": 121,
   "metadata": {},
   "outputs": [
    {
     "data": {
      "text/plain": [
       "Text(0.5, 1.0, 'Average precision score, micro-averaged over all classes: AP=0.76')"
      ]
     },
     "execution_count": 121,
     "metadata": {},
     "output_type": "execute_result"
    },
    {
     "data": {
      "image/png": "[encoded data removed]",
      "text/plain": [
       "<Figure size 432x288 with 1 Axes>"
      ]
     },
     "metadata": {},
     "output_type": "display_data"
    }
   ],
   "source": [
    "# Plot average precision-recall curve\n",
    "plt.figure()\n",
    "plt.step(recall['micro'], precision['micro'], where='post')\n",
    "\n",
    "plt.xlabel('Recall')\n",
    "plt.ylabel('Precision')\n",
    "plt.ylim([0.0, 1.05])\n",
    "plt.xlim([0.0, 1.0])\n",
    "plt.title(\n",
    "    'Average precision score, micro-averaged over all classes: AP={0:0.2f}'\n",
    "    .format(average_precision[\"micro\"]))"
   ]
  },
  {
   "cell_type": "code",
   "execution_count": 122,
   "metadata": {},
   "outputs": [
    {
     "data": {
      "image/png": "[encoded data removed]",
      "text/plain": [
       "<Figure size 504x576 with 1 Axes>"
      ]
     },
     "metadata": {},
     "output_type": "display_data"
    }
   ],
   "source": [
    "# Setup plot details\n",
    "colors = cycle(['navy', 'turquoise', 'darkorange', 'cornflowerblue', 'teal'])\n",
    "\n",
    "plt.figure(figsize = (7, 8))\n",
    "f_scores = np.linspace(0.2, 0.8, num = 4)\n",
    "lines = []\n",
    "labels = []\n",
    "for f_score in f_scores:\n",
    "    x = np.linspace(0.01, 1)\n",
    "    y = f_score * x / (2 * x - f_score)\n",
    "    l, = plt.plot(x[y >= 0], y[y >= 0], color='gray', alpha=0.2)\n",
    "    plt.annotate('f1={0:0.1f}'.format(f_score), xy=(0.9, y[45] + 0.02))\n",
    "\n",
    "lines.append(l)\n",
    "labels.append('iso-f1 curves')\n",
    "l, = plt.plot(recall[\"micro\"], precision[\"micro\"], color='gold', lw=2)\n",
    "lines.append(l)\n",
    "labels.append('micro-average Precision-recall (area = {0:0.2f})'\n",
    "              ''.format(average_precision[\"micro\"]))\n",
    "\n",
    "for i, color in zip(range(n_classes), colors):\n",
    "    l, = plt.plot(recall[i], precision[i], color=color, lw=2)\n",
    "    lines.append(l)\n",
    "    labels.append('Precision-recall for class {0} (area = {1:0.2f})'\n",
    "                  ''.format(i, average_precision[i]))\n",
    "\n",
    "fig = plt.gcf()\n",
    "fig.subplots_adjust(bottom=0.25)\n",
    "plt.xlim([0.0, 1.0])\n",
    "plt.ylim([0.0, 1.05])\n",
    "plt.xlabel('Recall')\n",
    "plt.ylabel('Precision')\n",
    "plt.title('Precision-Recall curve')\n",
    "plt.legend(lines, labels, loc=(0, -.5), prop=dict(size=14))\n",
    "\n",
    "\n",
    "plt.show()"
   ]
  },
  {
   "cell_type": "markdown",
   "metadata": {},
   "source": [
    "Adjusting Classification Threshold"
   ]
  },
  {
   "cell_type": "code",
   "execution_count": 123,
   "metadata": {},
   "outputs": [],
   "source": [
    "# apply threshold to positive probabilities to create labels\n",
    "def to_labels(pos_probs, threshold):\n",
    "\treturn (pos_probs >= threshold).astype('int')"
   ]
  },
  {
   "cell_type": "code",
   "execution_count": 124,
   "metadata": {},
   "outputs": [
    {
     "name": "stdout",
     "output_type": "stream",
     "text": [
      "Threshold=0.881, F-Score=0.77295\n"
     ]
    }
   ],
   "source": [
    "# predict probabilities\n",
    "#yhat = model.predict_proba(testX)\n",
    "#lr_probs = rfc.predict_proba(valid_data)\n",
    "from sklearn.metrics import f1_score\n",
    "# keep probabilities for the positive outcome only\n",
    "probs = lr_probs[:, 1]\n",
    "# define thresholds\n",
    "thresholds = np.arange(0, 1, 0.001)\n",
    "# evaluate each threshold\n",
    "scores = [f1_score(labels_valid, to_labels(probs, t), average=\"micro\") for t in thresholds]\n",
    "# get best threshold\n",
    "ix = np.argmax(scores)\n",
    "print('Threshold=%.3f, F-Score=%.5f' % (thresholds[ix], scores[ix]))"
   ]
  }
 ],
 "metadata": {
  "kernelspec": {
   "display_name": "Python 3",
   "language": "python",
   "name": "python3"
  },
  "language_info": {
   "codemirror_mode": {
    "name": "ipython",
    "version": 3
   },
   "file_extension": ".py",
   "mimetype": "text/x-python",
   "name": "python",
   "nbconvert_exporter": "python",
   "pygments_lexer": "ipython3",
   "version": "3.7.3"
  }
 },
 "nbformat": 4,
 "nbformat_minor": 2
}
