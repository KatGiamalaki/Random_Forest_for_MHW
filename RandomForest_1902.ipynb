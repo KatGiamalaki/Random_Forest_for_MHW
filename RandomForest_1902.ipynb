{
 "cells": [
  {
   "cell_type": "code",
   "execution_count": 1,
   "metadata": {},
   "outputs": [
    {
     "name": "stderr",
     "output_type": "stream",
     "text": [
      "/soft/anaconda/python3/2019.03/CentOS_7/lib/python3.7/site-packages/dask/config.py:168: YAMLLoadWarning: calling yaml.load() without Loader=... is deprecated, as the default Loader is unsafe. Please read https://msg.pyyaml.org/load for full details.\n",
      "  data = yaml.load(f.read()) or {}\n",
      "/soft/anaconda/python3/2019.03/CentOS_7/lib/python3.7/site-packages/distributed/config.py:20: YAMLLoadWarning: calling yaml.load() without Loader=... is deprecated, as the default Loader is unsafe. Please read https://msg.pyyaml.org/load for full details.\n",
      "  defaults = yaml.load(f)\n"
     ]
    }
   ],
   "source": [
    "import matplotlib.pyplot as plt\n",
    "import numpy as np\n",
    "import xarray as xr\n",
    "import netCDF4 as nc\n",
    "import pandas as pd\n",
    "import os \n",
    "\n",
    "%matplotlib inline"
   ]
  },
  {
   "cell_type": "code",
   "execution_count": 2,
   "metadata": {},
   "outputs": [
    {
     "data": {
      "text/plain": [
       "'/auto/home/agiamala/rf_mhw'"
      ]
     },
     "execution_count": 2,
     "metadata": {},
     "output_type": "execute_result"
    }
   ],
   "source": [
    "os.getcwd()"
   ]
  },
  {
   "cell_type": "code",
   "execution_count": 24,
   "metadata": {},
   "outputs": [],
   "source": [
    "colnames=['day', 'month','year', 'lon', 'lat', 'mhw_categories', 'Qnet','slp', 'sat', 'wind_speed'] \n",
    "allvars = pd.read_csv('all_2lag.csv', names=colnames, header=None)"
   ]
  },
  {
   "cell_type": "code",
   "execution_count": 25,
   "metadata": {
    "scrolled": true
   },
   "outputs": [
    {
     "data": {
      "text/html": [
       "<div>\n",
       "<style scoped>\n",
       "    .dataframe tbody tr th:only-of-type {\n",
       "        vertical-align: middle;\n",
       "    }\n",
       "\n",
       "    .dataframe tbody tr th {\n",
       "        vertical-align: top;\n",
       "    }\n",
       "\n",
       "    .dataframe thead th {\n",
       "        text-align: right;\n",
       "    }\n",
       "</style>\n",
       "<table border=\"1\" class=\"dataframe\">\n",
       "  <thead>\n",
       "    <tr style=\"text-align: right;\">\n",
       "      <th></th>\n",
       "      <th>day</th>\n",
       "      <th>month</th>\n",
       "      <th>year</th>\n",
       "      <th>lon</th>\n",
       "      <th>lat</th>\n",
       "      <th>mhw_categories</th>\n",
       "      <th>Qnet</th>\n",
       "      <th>slp</th>\n",
       "      <th>sat</th>\n",
       "      <th>wind_speed</th>\n",
       "    </tr>\n",
       "  </thead>\n",
       "  <tbody>\n",
       "    <tr>\n",
       "      <th>0</th>\n",
       "      <td>31</td>\n",
       "      <td>12</td>\n",
       "      <td>1981</td>\n",
       "      <td>187.5</td>\n",
       "      <td>62.5</td>\n",
       "      <td>0</td>\n",
       "      <td>-59.410534</td>\n",
       "      <td>101250.0</td>\n",
       "      <td>270.380005</td>\n",
       "      <td>3.795424</td>\n",
       "    </tr>\n",
       "    <tr>\n",
       "      <th>1</th>\n",
       "      <td>31</td>\n",
       "      <td>12</td>\n",
       "      <td>1981</td>\n",
       "      <td>190.0</td>\n",
       "      <td>62.5</td>\n",
       "      <td>0</td>\n",
       "      <td>-38.894039</td>\n",
       "      <td>101315.0</td>\n",
       "      <td>268.580017</td>\n",
       "      <td>4.496507</td>\n",
       "    </tr>\n",
       "    <tr>\n",
       "      <th>2</th>\n",
       "      <td>31</td>\n",
       "      <td>12</td>\n",
       "      <td>1981</td>\n",
       "      <td>192.5</td>\n",
       "      <td>62.5</td>\n",
       "      <td>1</td>\n",
       "      <td>4.918674</td>\n",
       "      <td>101338.0</td>\n",
       "      <td>267.500000</td>\n",
       "      <td>4.744823</td>\n",
       "    </tr>\n",
       "    <tr>\n",
       "      <th>3</th>\n",
       "      <td>31</td>\n",
       "      <td>12</td>\n",
       "      <td>1981</td>\n",
       "      <td>195.0</td>\n",
       "      <td>62.5</td>\n",
       "      <td>0</td>\n",
       "      <td>24.337357</td>\n",
       "      <td>101375.0</td>\n",
       "      <td>267.210022</td>\n",
       "      <td>4.819643</td>\n",
       "    </tr>\n",
       "    <tr>\n",
       "      <th>4</th>\n",
       "      <td>31</td>\n",
       "      <td>12</td>\n",
       "      <td>1981</td>\n",
       "      <td>197.5</td>\n",
       "      <td>62.5</td>\n",
       "      <td>1</td>\n",
       "      <td>40.749985</td>\n",
       "      <td>101450.0</td>\n",
       "      <td>266.549988</td>\n",
       "      <td>4.297870</td>\n",
       "    </tr>\n",
       "  </tbody>\n",
       "</table>\n",
       "</div>"
      ],
      "text/plain": [
       "   day  month  year    lon   lat  mhw_categories       Qnet       slp  \\\n",
       "0   31     12  1981  187.5  62.5               0 -59.410534  101250.0   \n",
       "1   31     12  1981  190.0  62.5               0 -38.894039  101315.0   \n",
       "2   31     12  1981  192.5  62.5               1   4.918674  101338.0   \n",
       "3   31     12  1981  195.0  62.5               0  24.337357  101375.0   \n",
       "4   31     12  1981  197.5  62.5               1  40.749985  101450.0   \n",
       "\n",
       "          sat  wind_speed  \n",
       "0  270.380005    3.795424  \n",
       "1  268.580017    4.496507  \n",
       "2  267.500000    4.744823  \n",
       "3  267.210022    4.819643  \n",
       "4  266.549988    4.297870  "
      ]
     },
     "execution_count": 25,
     "metadata": {},
     "output_type": "execute_result"
    }
   ],
   "source": [
    "allvars.head()"
   ]
  },
  {
   "cell_type": "code",
   "execution_count": 26,
   "metadata": {},
   "outputs": [
    {
     "data": {
      "text/plain": [
       "(8451093, 10)"
      ]
     },
     "execution_count": 26,
     "metadata": {},
     "output_type": "execute_result"
    }
   ],
   "source": [
    "allvars.shape"
   ]
  },
  {
   "cell_type": "code",
   "execution_count": 27,
   "metadata": {},
   "outputs": [],
   "source": [
    "# Labels are the values we want to predict\n",
    "labels = np.array(allvars['mhw_categories'])"
   ]
  },
  {
   "cell_type": "code",
   "execution_count": 28,
   "metadata": {},
   "outputs": [
    {
     "data": {
      "text/plain": [
       "['day', 'month', 'year', 'lon', 'lat', 'Qnet', 'slp', 'sat', 'wind_speed']"
      ]
     },
     "execution_count": 28,
     "metadata": {},
     "output_type": "execute_result"
    }
   ],
   "source": [
    "# Remove the labels from the features\n",
    "# axis 1 refers to the columns\n",
    "allvars= allvars.drop('mhw_categories', axis = 1)\n",
    "# Saving feature names for later use\n",
    "allvars_list = list(allvars.columns)\n",
    "allvars_list"
   ]
  },
  {
   "cell_type": "code",
   "execution_count": 29,
   "metadata": {},
   "outputs": [],
   "source": [
    "# Convert to numpy array\n",
    "allvars = np.array(allvars)"
   ]
  },
  {
   "cell_type": "code",
   "execution_count": 30,
   "metadata": {},
   "outputs": [],
   "source": [
    "# Using Skicit-learn to split data into training and testing sets\n",
    "# Split arrays or matrices into random train and test subsets\n",
    "from sklearn.model_selection import train_test_split\n",
    "from sklearn.model_selection import KFold \n",
    "from sklearn.ensemble import RandomForestClassifier\n",
    "from pprint import pprint\n",
    "from sklearn.model_selection import RandomizedSearchCV\n",
    "from sklearn.metrics import accuracy_score, confusion_matrix, classification_report\n",
    "import seaborn as sns"
   ]
  },
  {
   "cell_type": "code",
   "execution_count": 31,
   "metadata": {},
   "outputs": [],
   "source": [
    "# Split the data into training and testing sets\n",
    "# the random_state parameter is used for initializing the internal random number generator, \n",
    "# which will decide the splitting of data into train and test indices.\n",
    "train_allvars, test_allvars, train_labels, test_labels = train_test_split(allvars, labels, test_size = 0.4, random_state = 42)"
   ]
  },
  {
   "cell_type": "code",
   "execution_count": 32,
   "metadata": {},
   "outputs": [
    {
     "name": "stdout",
     "output_type": "stream",
     "text": [
      "Training allvars Shape: (5070655, 9)\n",
      "Training Labels Shape: (5070655,)\n",
      "Testing allvars Shape: (3380438, 9)\n",
      "Testing Labels Shape: (3380438,)\n"
     ]
    }
   ],
   "source": [
    "print('Training allvars Shape:', train_allvars.shape)\n",
    "print('Training Labels Shape:', train_labels.shape)\n",
    "print('Testing allvars Shape:', test_allvars.shape)\n",
    "print('Testing Labels Shape:', test_labels.shape)"
   ]
  },
  {
   "cell_type": "code",
   "execution_count": 13,
   "metadata": {},
   "outputs": [],
   "source": [
    "# Import the model we are using\n",
    "from sklearn.ensemble import RandomForestClassifier\n",
    "# Instantiate model with N decision trees\n",
    "rfc = RandomForestClassifier(n_estimators = 400, min_samples_split=10,min_samples_leaf=1,oob_score=True, random_state = 42)\n",
    "# Train the model on training data\n",
    "rfc.fit(train_allvars, train_labels);"
   ]
  },
  {
   "cell_type": "code",
   "execution_count": 14,
   "metadata": {},
   "outputs": [
    {
     "name": "stdout",
     "output_type": "stream",
     "text": [
      "Score against train set:  0.9645476066064129\n",
      "OOB Score:  0.9390998309714909\n",
      "Score against test set:  0.9394787773022928\n"
     ]
    }
   ],
   "source": [
    "print('Score against train set: ', rfc.score(train_allvars, train_labels))\n",
    "print('OOB Score: ', rfc.oob_score_)\n",
    "print('Score against test set: ', rfc.score(test_allvars, test_labels))"
   ]
  },
  {
   "cell_type": "code",
   "execution_count": 17,
   "metadata": {},
   "outputs": [],
   "source": [
    "# Make predictions for the test set\n",
    "yc_pred_test = rfc.predict(test_allvars)\n",
    "# Add 1 to be able to do the division for MAPE \n",
    "yc_pred_test1=yc_pred_test+1 \n",
    "test_labels1=test_labels+1"
   ]
  },
  {
   "cell_type": "code",
   "execution_count": 18,
   "metadata": {},
   "outputs": [
    {
     "name": "stdout",
     "output_type": "stream",
     "text": [
      "Mean Absolute Error: 0.08\n"
     ]
    }
   ],
   "source": [
    "# Calculate the absolute errors\n",
    "errorsc = abs(yc_pred_test1 - test_labels1)\n",
    "# Print out the mean absolute error (mae)\n",
    "print('Mean Absolute Error:', round(np.mean(errorsc), 2))"
   ]
  },
  {
   "cell_type": "code",
   "execution_count": 19,
   "metadata": {},
   "outputs": [
    {
     "name": "stdout",
     "output_type": "stream",
     "text": [
      "Accuracy: 96.39 %.\n"
     ]
    }
   ],
   "source": [
    "\n",
    "# Calculate mean absolute percentage error (MAPE)\n",
    "mapec = 100 * (errorsc / test_labels1)\n",
    "# Calculate and display accuracy\n",
    "accuracyc = 100 - np.mean(mapec)\n",
    "print('Accuracy:', round(accuracyc, 2), '%.')"
   ]
  },
  {
   "cell_type": "code",
   "execution_count": 20,
   "metadata": {},
   "outputs": [
    {
     "name": "stdout",
     "output_type": "stream",
     "text": [
      "Parameters currently in use:\n",
      "\n",
      "{'bootstrap': True,\n",
      " 'class_weight': None,\n",
      " 'criterion': 'gini',\n",
      " 'max_depth': None,\n",
      " 'max_features': 'auto',\n",
      " 'max_leaf_nodes': None,\n",
      " 'min_impurity_decrease': 0.0,\n",
      " 'min_impurity_split': None,\n",
      " 'min_samples_leaf': 5,\n",
      " 'min_samples_split': 10,\n",
      " 'min_weight_fraction_leaf': 0.0,\n",
      " 'n_estimators': 100,\n",
      " 'n_jobs': None,\n",
      " 'oob_score': True,\n",
      " 'random_state': 42,\n",
      " 'verbose': 0,\n",
      " 'warm_start': False}\n"
     ]
    }
   ],
   "source": [
    "print('Parameters currently in use:\\n')\n",
    "pprint(rfc.get_params())"
   ]
  },
  {
   "cell_type": "code",
   "execution_count": 21,
   "metadata": {},
   "outputs": [
    {
     "data": {
      "text/plain": [
       "array([[3004669,    3973,    6004,     844,      37],\n",
       "       [ 124803,   36708,    6873,     342,      20],\n",
       "       [  46352,    3944,   93520,    1628,      12],\n",
       "       [   3290,     121,    4906,   36772,     109],\n",
       "       [    324,      14,      81,     867,    3494]])"
      ]
     },
     "execution_count": 21,
     "metadata": {},
     "output_type": "execute_result"
    }
   ],
   "source": [
    "# View confusion matrix for test data and predictions\n",
    "confusion_matrix(test_labels, yc_pred_test)"
   ]
  },
  {
   "cell_type": "code",
   "execution_count": 22,
   "metadata": {},
   "outputs": [
    {
     "data": {
      "image/png": "[encoded data removed]",
      "text/plain": [
       "<Figure size 1152x504 with 2 Axes>"
      ]
     },
     "metadata": {
      "needs_background": "light"
     },
     "output_type": "display_data"
    }
   ],
   "source": [
    "# Get and reshape confusion matrix data\n",
    "matrix = confusion_matrix(test_labels, yc_pred_test)\n",
    "matrix = matrix.astype('float') / matrix.sum(axis=1)[:, np.newaxis]\n",
    "\n",
    "# Build the plot\n",
    "plt.figure(figsize=(16,7))\n",
    "sns.set(font_scale=1.4)\n",
    "sns.heatmap(matrix, annot=True, annot_kws={'size':10},\n",
    "            cmap=plt.cm.Greens, linewidths=0.2)\n",
    "\n",
    "# Add labels to the plot\n",
    "class_names = ['90th Percentile','Moderate', 'Strong', 'Severe', \n",
    "               'Extreme']\n",
    "tick_marks = np.arange(len(class_names))\n",
    "tick_marks2 = tick_marks + 0.5\n",
    "plt.xticks(tick_marks, class_names, rotation=25)\n",
    "plt.yticks(tick_marks2, class_names, rotation=0)\n",
    "plt.xlabel('Predicted label')\n",
    "plt.ylabel('True label')\n",
    "plt.title('Confusion Matrix for Random Forest Model')\n",
    "plt.show()"
   ]
  },
  {
   "cell_type": "code",
   "execution_count": 23,
   "metadata": {},
   "outputs": [
    {
     "name": "stdout",
     "output_type": "stream",
     "text": [
      "              precision    recall  f1-score   support\n",
      "\n",
      "           0       0.95      1.00      0.97   3015527\n",
      "           1       0.82      0.22      0.34    168746\n",
      "           2       0.84      0.64      0.73    145456\n",
      "           3       0.91      0.81      0.86     45198\n",
      "           4       0.95      0.73      0.83      4780\n",
      "\n",
      "   micro avg       0.94      0.94      0.94   3379707\n",
      "   macro avg       0.89      0.68      0.75   3379707\n",
      "weighted avg       0.93      0.94      0.93   3379707\n",
      "\n"
     ]
    }
   ],
   "source": [
    "print(classification_report(test_labels, yc_pred_test))"
   ]
  }
 ],
 "metadata": {
  "kernelspec": {
   "display_name": "Python 3",
   "language": "python",
   "name": "python3"
  },
  "language_info": {
   "codemirror_mode": {
    "name": "ipython",
    "version": 3
   },
   "file_extension": ".py",
   "mimetype": "text/x-python",
   "name": "python",
   "nbconvert_exporter": "python",
   "pygments_lexer": "ipython3",
   "version": "3.7.3"
  }
 },
 "nbformat": 4,
 "nbformat_minor": 2
}
