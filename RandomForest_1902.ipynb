{
 "cells": [
  {
   "cell_type": "code",
   "execution_count": 437,
   "metadata": {
    "scrolled": true
   },
   "outputs": [],
   "source": [
    "import matplotlib.pyplot as plt\n",
    "import numpy as np\n",
    "import xarray as xr\n",
    "#import netCDF4 as nc\n",
    "import pandas as pd\n",
    "import os \n",
    "\n",
    "%matplotlib inline\n",
    "\n",
    "# Using Skicit-learn to split data into training and testing sets\n",
    "# Split arrays or matrices into random train and test subsets\n",
    "from sklearn.model_selection import train_test_split\n",
    "from sklearn.model_selection import KFold \n",
    "from sklearn.ensemble import RandomForestClassifier\n",
    "from pprint import pprint\n",
    "from sklearn.model_selection import RandomizedSearchCV\n",
    "from sklearn.metrics import accuracy_score, confusion_matrix, classification_report\n",
    "import seaborn as sns\n",
    "import sklearn.externals \n",
    "import joblib\n",
    "from sklearn import metrics\n",
    "from sklearn.preprocessing import label_binarize\n",
    "from sklearn.metrics import precision_recall_curve\n",
    "from sklearn.metrics import average_precision_score\n",
    "from itertools import cycle"
   ]
  },
  {
   "cell_type": "markdown",
   "metadata": {},
   "source": [
    "# Data Preparation"
   ]
  },
  {
   "cell_type": "code",
   "execution_count": 234,
   "metadata": {},
   "outputs": [],
   "source": [
    "# Load unbalanced raw dataset\n",
    "file_unbal ='/auto/home/agiamala/rf_mhw/mat_unbalanced.csv'\n",
    "mat_unbal = pd.read_csv(file_unbal, header = None)\n",
    "mat_unbal.columns = ['day', 'month','year','doy', 'lon', 'lat', 'Qnet','slp', 'sat', 'wind_speed','sst', 'sstRoC', 'mhw_categories']"
   ]
  },
  {
   "cell_type": "code",
   "execution_count": 235,
   "metadata": {
    "scrolled": false
   },
   "outputs": [
    {
     "data": {
      "text/html": [
       "<div>\n",
       "<style scoped>\n",
       "    .dataframe tbody tr th:only-of-type {\n",
       "        vertical-align: middle;\n",
       "    }\n",
       "\n",
       "    .dataframe tbody tr th {\n",
       "        vertical-align: top;\n",
       "    }\n",
       "\n",
       "    .dataframe thead th {\n",
       "        text-align: right;\n",
       "    }\n",
       "</style>\n",
       "<table border=\"1\" class=\"dataframe\">\n",
       "  <thead>\n",
       "    <tr style=\"text-align: right;\">\n",
       "      <th></th>\n",
       "      <th>day</th>\n",
       "      <th>month</th>\n",
       "      <th>year</th>\n",
       "      <th>doy</th>\n",
       "      <th>lon</th>\n",
       "      <th>lat</th>\n",
       "      <th>Qnet</th>\n",
       "      <th>slp</th>\n",
       "      <th>sat</th>\n",
       "      <th>wind_speed</th>\n",
       "      <th>sst</th>\n",
       "      <th>sstRoC</th>\n",
       "      <th>mhw_categories</th>\n",
       "    </tr>\n",
       "  </thead>\n",
       "  <tbody>\n",
       "    <tr>\n",
       "      <th>0</th>\n",
       "      <td>1</td>\n",
       "      <td>1</td>\n",
       "      <td>1982</td>\n",
       "      <td>1</td>\n",
       "      <td>187.625</td>\n",
       "      <td>12.625</td>\n",
       "      <td>0.731018</td>\n",
       "      <td>-568.700000</td>\n",
       "      <td>11.166991</td>\n",
       "      <td>-0.726035</td>\n",
       "      <td>0.932887</td>\n",
       "      <td>-0.209477</td>\n",
       "      <td>0</td>\n",
       "    </tr>\n",
       "    <tr>\n",
       "      <th>1</th>\n",
       "      <td>1</td>\n",
       "      <td>1</td>\n",
       "      <td>1982</td>\n",
       "      <td>1</td>\n",
       "      <td>190.125</td>\n",
       "      <td>12.625</td>\n",
       "      <td>-0.864615</td>\n",
       "      <td>-319.066667</td>\n",
       "      <td>11.553665</td>\n",
       "      <td>0.309211</td>\n",
       "      <td>1.372802</td>\n",
       "      <td>-0.397347</td>\n",
       "      <td>0</td>\n",
       "    </tr>\n",
       "    <tr>\n",
       "      <th>2</th>\n",
       "      <td>1</td>\n",
       "      <td>1</td>\n",
       "      <td>1982</td>\n",
       "      <td>1</td>\n",
       "      <td>192.625</td>\n",
       "      <td>12.625</td>\n",
       "      <td>2.299962</td>\n",
       "      <td>-81.166667</td>\n",
       "      <td>11.784982</td>\n",
       "      <td>0.700121</td>\n",
       "      <td>1.124733</td>\n",
       "      <td>-0.328405</td>\n",
       "      <td>0</td>\n",
       "    </tr>\n",
       "    <tr>\n",
       "      <th>3</th>\n",
       "      <td>1</td>\n",
       "      <td>1</td>\n",
       "      <td>1982</td>\n",
       "      <td>1</td>\n",
       "      <td>195.125</td>\n",
       "      <td>12.625</td>\n",
       "      <td>25.466551</td>\n",
       "      <td>154.533333</td>\n",
       "      <td>11.476991</td>\n",
       "      <td>0.710585</td>\n",
       "      <td>1.013936</td>\n",
       "      <td>-0.153395</td>\n",
       "      <td>0</td>\n",
       "    </tr>\n",
       "    <tr>\n",
       "      <th>4</th>\n",
       "      <td>1</td>\n",
       "      <td>1</td>\n",
       "      <td>1982</td>\n",
       "      <td>1</td>\n",
       "      <td>197.625</td>\n",
       "      <td>12.625</td>\n",
       "      <td>56.970769</td>\n",
       "      <td>390.033333</td>\n",
       "      <td>9.841682</td>\n",
       "      <td>1.007320</td>\n",
       "      <td>0.784534</td>\n",
       "      <td>-0.025855</td>\n",
       "      <td>0</td>\n",
       "    </tr>\n",
       "  </tbody>\n",
       "</table>\n",
       "</div>"
      ],
      "text/plain": [
       "   day  month  year  doy      lon     lat       Qnet         slp        sat  \\\n",
       "0    1      1  1982    1  187.625  12.625   0.731018 -568.700000  11.166991   \n",
       "1    1      1  1982    1  190.125  12.625  -0.864615 -319.066667  11.553665   \n",
       "2    1      1  1982    1  192.625  12.625   2.299962  -81.166667  11.784982   \n",
       "3    1      1  1982    1  195.125  12.625  25.466551  154.533333  11.476991   \n",
       "4    1      1  1982    1  197.625  12.625  56.970769  390.033333   9.841682   \n",
       "\n",
       "   wind_speed       sst    sstRoC  mhw_categories  \n",
       "0   -0.726035  0.932887 -0.209477               0  \n",
       "1    0.309211  1.372802 -0.397347               0  \n",
       "2    0.700121  1.124733 -0.328405               0  \n",
       "3    0.710585  1.013936 -0.153395               0  \n",
       "4    1.007320  0.784534 -0.025855               0  "
      ]
     },
     "execution_count": 235,
     "metadata": {},
     "output_type": "execute_result"
    }
   ],
   "source": [
    "mat_unbal.head()"
   ]
  },
  {
   "cell_type": "code",
   "execution_count": 236,
   "metadata": {},
   "outputs": [],
   "source": [
    "# Select unbalanced test dataset 2017-2018\n",
    "valid_data = mat_unbal[(mat_unbal[\"year\"] == 2017) | (mat_unbal[\"year\"] == 2018) | (mat_unbal[\"year\"] == 2019)]"
   ]
  },
  {
   "cell_type": "code",
   "execution_count": 237,
   "metadata": {},
   "outputs": [
    {
     "data": {
      "text/html": [
       "<div>\n",
       "<style scoped>\n",
       "    .dataframe tbody tr th:only-of-type {\n",
       "        vertical-align: middle;\n",
       "    }\n",
       "\n",
       "    .dataframe tbody tr th {\n",
       "        vertical-align: top;\n",
       "    }\n",
       "\n",
       "    .dataframe thead th {\n",
       "        text-align: right;\n",
       "    }\n",
       "</style>\n",
       "<table border=\"1\" class=\"dataframe\">\n",
       "  <thead>\n",
       "    <tr style=\"text-align: right;\">\n",
       "      <th></th>\n",
       "      <th>day</th>\n",
       "      <th>month</th>\n",
       "      <th>year</th>\n",
       "      <th>doy</th>\n",
       "      <th>lon</th>\n",
       "      <th>lat</th>\n",
       "      <th>Qnet</th>\n",
       "      <th>slp</th>\n",
       "      <th>sat</th>\n",
       "      <th>wind_speed</th>\n",
       "      <th>sst</th>\n",
       "      <th>sstRoC</th>\n",
       "      <th>mhw_categories</th>\n",
       "    </tr>\n",
       "  </thead>\n",
       "  <tbody>\n",
       "    <tr>\n",
       "      <th>5113600</th>\n",
       "      <td>1</td>\n",
       "      <td>1</td>\n",
       "      <td>2017</td>\n",
       "      <td>1</td>\n",
       "      <td>187.625</td>\n",
       "      <td>12.625</td>\n",
       "      <td>116.213735</td>\n",
       "      <td>-501.200000</td>\n",
       "      <td>13.586974</td>\n",
       "      <td>8.482409</td>\n",
       "      <td>0.416275</td>\n",
       "      <td>-0.003609</td>\n",
       "      <td>0</td>\n",
       "    </tr>\n",
       "    <tr>\n",
       "      <th>5113601</th>\n",
       "      <td>1</td>\n",
       "      <td>1</td>\n",
       "      <td>2017</td>\n",
       "      <td>1</td>\n",
       "      <td>190.125</td>\n",
       "      <td>12.625</td>\n",
       "      <td>129.859558</td>\n",
       "      <td>10.933333</td>\n",
       "      <td>13.753677</td>\n",
       "      <td>9.436665</td>\n",
       "      <td>0.475611</td>\n",
       "      <td>0.011909</td>\n",
       "      <td>0</td>\n",
       "    </tr>\n",
       "    <tr>\n",
       "      <th>5113602</th>\n",
       "      <td>1</td>\n",
       "      <td>1</td>\n",
       "      <td>2017</td>\n",
       "      <td>1</td>\n",
       "      <td>192.625</td>\n",
       "      <td>12.625</td>\n",
       "      <td>130.422035</td>\n",
       "      <td>521.333333</td>\n",
       "      <td>14.000009</td>\n",
       "      <td>9.510640</td>\n",
       "      <td>0.472171</td>\n",
       "      <td>-0.013364</td>\n",
       "      <td>0</td>\n",
       "    </tr>\n",
       "    <tr>\n",
       "      <th>5113603</th>\n",
       "      <td>1</td>\n",
       "      <td>1</td>\n",
       "      <td>2017</td>\n",
       "      <td>1</td>\n",
       "      <td>195.125</td>\n",
       "      <td>12.625</td>\n",
       "      <td>103.499882</td>\n",
       "      <td>1011.533333</td>\n",
       "      <td>14.821992</td>\n",
       "      <td>8.186876</td>\n",
       "      <td>0.308234</td>\n",
       "      <td>0.038589</td>\n",
       "      <td>0</td>\n",
       "    </tr>\n",
       "    <tr>\n",
       "      <th>5113604</th>\n",
       "      <td>1</td>\n",
       "      <td>1</td>\n",
       "      <td>2017</td>\n",
       "      <td>1</td>\n",
       "      <td>197.625</td>\n",
       "      <td>12.625</td>\n",
       "      <td>59.395534</td>\n",
       "      <td>1457.033333</td>\n",
       "      <td>15.761665</td>\n",
       "      <td>6.305441</td>\n",
       "      <td>0.287014</td>\n",
       "      <td>-0.044616</td>\n",
       "      <td>0</td>\n",
       "    </tr>\n",
       "  </tbody>\n",
       "</table>\n",
       "</div>"
      ],
      "text/plain": [
       "         day  month  year  doy      lon     lat        Qnet          slp  \\\n",
       "5113600    1      1  2017    1  187.625  12.625  116.213735  -501.200000   \n",
       "5113601    1      1  2017    1  190.125  12.625  129.859558    10.933333   \n",
       "5113602    1      1  2017    1  192.625  12.625  130.422035   521.333333   \n",
       "5113603    1      1  2017    1  195.125  12.625  103.499882  1011.533333   \n",
       "5113604    1      1  2017    1  197.625  12.625   59.395534  1457.033333   \n",
       "\n",
       "               sat  wind_speed       sst    sstRoC  mhw_categories  \n",
       "5113600  13.586974    8.482409  0.416275 -0.003609               0  \n",
       "5113601  13.753677    9.436665  0.475611  0.011909               0  \n",
       "5113602  14.000009    9.510640  0.472171 -0.013364               0  \n",
       "5113603  14.821992    8.186876  0.308234  0.038589               0  \n",
       "5113604  15.761665    6.305441  0.287014 -0.044616               0  "
      ]
     },
     "execution_count": 237,
     "metadata": {},
     "output_type": "execute_result"
    }
   ],
   "source": [
    "valid_data.head()"
   ]
  },
  {
   "cell_type": "code",
   "execution_count": 238,
   "metadata": {},
   "outputs": [
    {
     "data": {
      "text/plain": [
       "(437600, 13)"
      ]
     },
     "execution_count": 238,
     "metadata": {},
     "output_type": "execute_result"
    }
   ],
   "source": [
    "valid_data.shape"
   ]
  },
  {
   "cell_type": "code",
   "execution_count": 239,
   "metadata": {
    "scrolled": false
   },
   "outputs": [
    {
     "name": "stderr",
     "output_type": "stream",
     "text": [
      "<ipython-input-239-01f4147d2171>:2: SettingWithCopyWarning: \n",
      "A value is trying to be set on a copy of a slice from a DataFrame.\n",
      "Try using .loc[row_indexer,col_indexer] = value instead\n",
      "\n",
      "See the caveats in the documentation: https://pandas.pydata.org/pandas-docs/stable/user_guide/indexing.html#returning-a-view-versus-a-copy\n",
      "  valid_data[\"mhw_categories\"] = valid_data[\"mhw_categories\"].replace(4,3)\n"
     ]
    }
   ],
   "source": [
    "# Merge severe and extreme MHW categories\n",
    "valid_data[\"mhw_categories\"] = valid_data[\"mhw_categories\"].replace(4,3)"
   ]
  },
  {
   "cell_type": "code",
   "execution_count": null,
   "metadata": {},
   "outputs": [],
   "source": [
    "# Make presence/absence only\n",
    "#valid_data[\"mhw_categories\"] = valid_data[\"mhw_categories\"].replace(2,1)\n",
    "#valid_data[\"mhw_categories\"] = valid_data[\"mhw_categories\"].replace(3,1)"
   ]
  },
  {
   "cell_type": "code",
   "execution_count": 250,
   "metadata": {},
   "outputs": [],
   "source": [
    "# Checking if replacement of 4 with 3 categories worked\n",
    "count_cat_valid = valid_data[(valid_data[\"mhw_categories\"] == 0)]# | (allvars[\"mhw_categories\"] == 2) | (allvars[\"mhw_categories\"] == 3)]"
   ]
  },
  {
   "cell_type": "code",
   "execution_count": 251,
   "metadata": {},
   "outputs": [
    {
     "data": {
      "text/plain": [
       "(338110, 13)"
      ]
     },
     "execution_count": 251,
     "metadata": {},
     "output_type": "execute_result"
    }
   ],
   "source": [
    "np.shape(count_cat_valid)"
   ]
  },
  {
   "cell_type": "code",
   "execution_count": 197,
   "metadata": {},
   "outputs": [
    {
     "data": {
      "text/plain": [
       "['doy', 'lon', 'lat', 'Qnet', 'slp', 'sat', 'wind_speed', 'sst']"
      ]
     },
     "execution_count": 197,
     "metadata": {},
     "output_type": "execute_result"
    }
   ],
   "source": [
    "labels_valid = np.array(valid_data['mhw_categories'])\n",
    "\n",
    "# Remove the labels from the features\n",
    "# axis 1 refers to the columns\n",
    "valid_data= valid_data.drop('mhw_categories', axis = 1)\n",
    "valid_data= valid_data.drop('year', axis = 1)\n",
    "valid_data= valid_data.drop('sstRoC', axis = 1)\n",
    "valid_data= valid_data.drop('day', axis = 1)\n",
    "valid_data= valid_data.drop('month', axis = 1)\n",
    "\n",
    "# Saving feature names for later use\n",
    "valid_data_list = list(valid_data.columns)\n",
    "valid_data_list"
   ]
  },
  {
   "cell_type": "code",
   "execution_count": 198,
   "metadata": {
    "scrolled": true
   },
   "outputs": [
    {
     "name": "stdout",
     "output_type": "stream",
     "text": [
      "(437600, 8)\n",
      "(437600,)\n"
     ]
    }
   ],
   "source": [
    "print(valid_data.shape)\n",
    "print(labels_valid.shape)"
   ]
  },
  {
   "cell_type": "code",
   "execution_count": 231,
   "metadata": {},
   "outputs": [],
   "source": [
    "# Load balanced training dataset - 7 days lag\n",
    "file_name = '/auto/home/agiamala/rf_mhw/movav_7_19new.csv'\n",
    "colnames = ['day', 'month','year','doy', 'lon', 'lat', 'Qnet','slp', 'sat', 'wind_speed','sst', 'sstRoC', 'mhw_categories']\n",
    "allvars = pd.read_csv(file_name, names = colnames, header = None)"
   ]
  },
  {
   "cell_type": "code",
   "execution_count": 232,
   "metadata": {
    "scrolled": true
   },
   "outputs": [
    {
     "data": {
      "text/html": [
       "<div>\n",
       "<style scoped>\n",
       "    .dataframe tbody tr th:only-of-type {\n",
       "        vertical-align: middle;\n",
       "    }\n",
       "\n",
       "    .dataframe tbody tr th {\n",
       "        vertical-align: top;\n",
       "    }\n",
       "\n",
       "    .dataframe thead th {\n",
       "        text-align: right;\n",
       "    }\n",
       "</style>\n",
       "<table border=\"1\" class=\"dataframe\">\n",
       "  <thead>\n",
       "    <tr style=\"text-align: right;\">\n",
       "      <th></th>\n",
       "      <th>day</th>\n",
       "      <th>month</th>\n",
       "      <th>year</th>\n",
       "      <th>doy</th>\n",
       "      <th>lon</th>\n",
       "      <th>lat</th>\n",
       "      <th>Qnet</th>\n",
       "      <th>slp</th>\n",
       "      <th>sat</th>\n",
       "      <th>wind_speed</th>\n",
       "      <th>sst</th>\n",
       "      <th>sstRoC</th>\n",
       "      <th>mhw_categories</th>\n",
       "    </tr>\n",
       "  </thead>\n",
       "  <tbody>\n",
       "    <tr>\n",
       "      <th>1144436</th>\n",
       "      <td>23</td>\n",
       "      <td>12</td>\n",
       "      <td>2019</td>\n",
       "      <td>357</td>\n",
       "      <td>215.125</td>\n",
       "      <td>55.125</td>\n",
       "      <td>213.169765</td>\n",
       "      <td>-48.566667</td>\n",
       "      <td>0.266614</td>\n",
       "      <td>2.346308</td>\n",
       "      <td>2.008487</td>\n",
       "      <td>-0.027102</td>\n",
       "      <td>1</td>\n",
       "    </tr>\n",
       "    <tr>\n",
       "      <th>1144437</th>\n",
       "      <td>23</td>\n",
       "      <td>12</td>\n",
       "      <td>2019</td>\n",
       "      <td>357</td>\n",
       "      <td>217.625</td>\n",
       "      <td>55.125</td>\n",
       "      <td>181.646030</td>\n",
       "      <td>-16.395238</td>\n",
       "      <td>-0.106776</td>\n",
       "      <td>1.503766</td>\n",
       "      <td>1.910056</td>\n",
       "      <td>-0.005740</td>\n",
       "      <td>1</td>\n",
       "    </tr>\n",
       "    <tr>\n",
       "      <th>1144438</th>\n",
       "      <td>23</td>\n",
       "      <td>12</td>\n",
       "      <td>2019</td>\n",
       "      <td>357</td>\n",
       "      <td>220.125</td>\n",
       "      <td>55.125</td>\n",
       "      <td>150.576762</td>\n",
       "      <td>-5.485714</td>\n",
       "      <td>-0.309338</td>\n",
       "      <td>1.012491</td>\n",
       "      <td>1.648987</td>\n",
       "      <td>-0.016497</td>\n",
       "      <td>1</td>\n",
       "    </tr>\n",
       "    <tr>\n",
       "      <th>1144439</th>\n",
       "      <td>23</td>\n",
       "      <td>12</td>\n",
       "      <td>2019</td>\n",
       "      <td>357</td>\n",
       "      <td>222.625</td>\n",
       "      <td>55.125</td>\n",
       "      <td>133.883315</td>\n",
       "      <td>-6.280952</td>\n",
       "      <td>-0.357060</td>\n",
       "      <td>0.499175</td>\n",
       "      <td>1.161563</td>\n",
       "      <td>-0.018092</td>\n",
       "      <td>1</td>\n",
       "    </tr>\n",
       "    <tr>\n",
       "      <th>1144440</th>\n",
       "      <td>23</td>\n",
       "      <td>12</td>\n",
       "      <td>2019</td>\n",
       "      <td>357</td>\n",
       "      <td>220.125</td>\n",
       "      <td>57.625</td>\n",
       "      <td>143.794209</td>\n",
       "      <td>-27.528571</td>\n",
       "      <td>-0.266393</td>\n",
       "      <td>1.997759</td>\n",
       "      <td>0.893055</td>\n",
       "      <td>0.002820</td>\n",
       "      <td>1</td>\n",
       "    </tr>\n",
       "  </tbody>\n",
       "</table>\n",
       "</div>"
      ],
      "text/plain": [
       "         day  month  year  doy      lon     lat        Qnet        slp  \\\n",
       "1144436   23     12  2019  357  215.125  55.125  213.169765 -48.566667   \n",
       "1144437   23     12  2019  357  217.625  55.125  181.646030 -16.395238   \n",
       "1144438   23     12  2019  357  220.125  55.125  150.576762  -5.485714   \n",
       "1144439   23     12  2019  357  222.625  55.125  133.883315  -6.280952   \n",
       "1144440   23     12  2019  357  220.125  57.625  143.794209 -27.528571   \n",
       "\n",
       "              sat  wind_speed       sst    sstRoC  mhw_categories  \n",
       "1144436  0.266614    2.346308  2.008487 -0.027102               1  \n",
       "1144437 -0.106776    1.503766  1.910056 -0.005740               1  \n",
       "1144438 -0.309338    1.012491  1.648987 -0.016497               1  \n",
       "1144439 -0.357060    0.499175  1.161563 -0.018092               1  \n",
       "1144440 -0.266393    1.997759  0.893055  0.002820               1  "
      ]
     },
     "execution_count": 232,
     "metadata": {},
     "output_type": "execute_result"
    }
   ],
   "source": [
    "allvars.tail()"
   ]
  },
  {
   "cell_type": "code",
   "execution_count": 233,
   "metadata": {
    "scrolled": true
   },
   "outputs": [],
   "source": [
    "# Merge severe and extreme MHW categories\n",
    "allvars[\"mhw_categories\"] = allvars[\"mhw_categories\"].replace(4,3)"
   ]
  },
  {
   "cell_type": "code",
   "execution_count": null,
   "metadata": {},
   "outputs": [],
   "source": [
    "# Make presence/absence only\n",
    "#allvars[\"mhw_categories\"] = allvars[\"mhw_categories\"].replace(2,1)\n",
    "#allvars[\"mhw_categories\"] = allvars[\"mhw_categories\"].replace(3,1)"
   ]
  },
  {
   "cell_type": "code",
   "execution_count": 202,
   "metadata": {},
   "outputs": [],
   "source": [
    "allvars = allvars.drop(allvars.index[(allvars[\"year\"] == 2017) | (allvars[\"year\"] == 2018) | (allvars[\"year\"] == 2019)], axis=0) "
   ]
  },
  {
   "cell_type": "code",
   "execution_count": 203,
   "metadata": {},
   "outputs": [
    {
     "data": {
      "text/plain": [
       "(869927, 13)"
      ]
     },
     "execution_count": 203,
     "metadata": {},
     "output_type": "execute_result"
    }
   ],
   "source": [
    "allvars.shape"
   ]
  },
  {
   "cell_type": "code",
   "execution_count": 230,
   "metadata": {
    "scrolled": true
   },
   "outputs": [
    {
     "ename": "IndexError",
     "evalue": "only integers, slices (`:`), ellipsis (`...`), numpy.newaxis (`None`) and integer or boolean arrays are valid indices",
     "output_type": "error",
     "traceback": [
      "\u001b[0;31m---------------------------------------------------------------------------\u001b[0m",
      "\u001b[0;31mIndexError\u001b[0m                                Traceback (most recent call last)",
      "\u001b[0;32m<ipython-input-230-66e53e294a5a>\u001b[0m in \u001b[0;36m<module>\u001b[0;34m\u001b[0m\n\u001b[1;32m      1\u001b[0m \u001b[0;31m# Checking if replacement of 4 with 3 categories worked\u001b[0m\u001b[0;34m\u001b[0m\u001b[0;34m\u001b[0m\u001b[0;34m\u001b[0m\u001b[0m\n\u001b[0;32m----> 2\u001b[0;31m \u001b[0mcount_cat\u001b[0m \u001b[0;34m=\u001b[0m \u001b[0mallvars\u001b[0m\u001b[0;34m[\u001b[0m\u001b[0;34m(\u001b[0m\u001b[0mallvars\u001b[0m\u001b[0;34m[\u001b[0m\u001b[0;34m\"mhw_categories\"\u001b[0m\u001b[0;34m]\u001b[0m \u001b[0;34m==\u001b[0m \u001b[0;36m1\u001b[0m\u001b[0;34m)\u001b[0m\u001b[0;34m]\u001b[0m\u001b[0;31m# | (allvars[\"mhw_categories\"] == 2) | (allvars[\"mhw_categories\"] == 3)]\u001b[0m\u001b[0;34m\u001b[0m\u001b[0;34m\u001b[0m\u001b[0m\n\u001b[0m",
      "\u001b[0;31mIndexError\u001b[0m: only integers, slices (`:`), ellipsis (`...`), numpy.newaxis (`None`) and integer or boolean arrays are valid indices"
     ]
    }
   ],
   "source": [
    "# Checking if replacement of 4 with 3 categories worked\n",
    "count_cat = allvars[(allvars[\"mhw_categories\"] == 1)]# | (allvars[\"mhw_categories\"] == 2) | (allvars[\"mhw_categories\"] == 3)]"
   ]
  },
  {
   "cell_type": "code",
   "execution_count": 106,
   "metadata": {},
   "outputs": [
    {
     "data": {
      "text/plain": [
       "(531262, 13)"
      ]
     },
     "execution_count": 106,
     "metadata": {},
     "output_type": "execute_result"
    }
   ],
   "source": [
    "count_cat.shape"
   ]
  },
  {
   "cell_type": "code",
   "execution_count": 204,
   "metadata": {},
   "outputs": [
    {
     "data": {
      "text/plain": [
       "['doy', 'lon', 'lat', 'Qnet', 'slp', 'sat', 'wind_speed', 'sst']"
      ]
     },
     "execution_count": 204,
     "metadata": {},
     "output_type": "execute_result"
    }
   ],
   "source": [
    "# Labels are the values we want to predict\n",
    "labels = np.array(allvars['mhw_categories'])\n",
    "\n",
    "# Remove the labels from the features\n",
    "allvars = allvars.drop('mhw_categories', axis = 1)\n",
    "allvars = allvars.drop('year', axis = 1)\n",
    "allvars = allvars.drop('sstRoC', axis = 1)\n",
    "allvars = allvars.drop('day', axis = 1)\n",
    "allvars = allvars.drop('month', axis = 1)\n",
    "\n",
    "# Saving feature names for later use\n",
    "allvars_list = list(allvars.columns)\n",
    "allvars_list"
   ]
  },
  {
   "cell_type": "code",
   "execution_count": 205,
   "metadata": {},
   "outputs": [],
   "source": [
    "# Convert to numpy array\n",
    "allvars = np.array(allvars)"
   ]
  },
  {
   "cell_type": "code",
   "execution_count": 206,
   "metadata": {},
   "outputs": [
    {
     "data": {
      "text/plain": [
       "(869927, 8)"
      ]
     },
     "execution_count": 206,
     "metadata": {},
     "output_type": "execute_result"
    }
   ],
   "source": [
    "allvars.shape"
   ]
  },
  {
   "cell_type": "code",
   "execution_count": 207,
   "metadata": {},
   "outputs": [],
   "source": [
    "X_train = allvars\n",
    "y_train = labels\n",
    "\n",
    "X_test = valid_data\n",
    "y_test = labels_valid"
   ]
  },
  {
   "cell_type": "code",
   "execution_count": null,
   "metadata": {},
   "outputs": [],
   "source": [
    "# Split the data into training and testing sets\n",
    "# the random_state parameter is used for initializing the internal random number generator, \n",
    "# which will decide the splitting of data into train and test indices.\n",
    "#train_allvars, test_allvars, train_labels, test_labels = train_test_split(allvars, labels, test_size = 0.0, random_state = 42)"
   ]
  },
  {
   "cell_type": "code",
   "execution_count": 208,
   "metadata": {
    "scrolled": true
   },
   "outputs": [
    {
     "name": "stdout",
     "output_type": "stream",
     "text": [
      "Training allvars Shape: (869927, 8)\n",
      "Training Labels Shape: (869927,)\n",
      "Testing allvars Shape: (437600, 8)\n",
      "Testing Labels Shape: (437600,)\n"
     ]
    }
   ],
   "source": [
    "print('Training allvars Shape:', X_train.shape)\n",
    "print('Training Labels Shape:', y_train.shape)\n",
    "print('Testing allvars Shape:', X_test.shape)\n",
    "print('Testing Labels Shape:', y_test.shape)"
   ]
  },
  {
   "cell_type": "markdown",
   "metadata": {},
   "source": [
    "# Randomized Cross Validation"
   ]
  },
  {
   "cell_type": "code",
   "execution_count": null,
   "metadata": {},
   "outputs": [],
   "source": [
    "# Number of trees in random forest\n",
    "n_estimators = [int(x) for x in np.linspace(start = 200, stop = 1000, num = 9)]\n",
    "# Number of features to consider at every split\n",
    "max_features = ['auto', 'sqrt']\n",
    "# Maximum number of levels in tree\n",
    "max_depth = [int(x) for x in np.linspace(10, 110, num = 11)]\n",
    "max_depth.append(None)\n",
    "# Minimum number of samples required to split a node\n",
    "min_samples_split = [2, 5, 10]\n",
    "# Minimum number of samples required at each leaf node\n",
    "min_samples_leaf = [1, 2, 4]\n",
    "# Method of selecting samples for training each tree\n",
    "bootstrap = [True, False]\n",
    "# Create the random grid\n",
    "random_grid = {'n_estimators': n_estimators,\n",
    "               'max_features': max_features,\n",
    "               'max_depth': max_depth,\n",
    "               'min_samples_split': min_samples_split,\n",
    "               'min_samples_leaf': min_samples_leaf,\n",
    "               'bootstrap': bootstrap}\n",
    "pprint(random_grid)"
   ]
  },
  {
   "cell_type": "code",
   "execution_count": null,
   "metadata": {
    "scrolled": true
   },
   "outputs": [],
   "source": [
    "# Use the random grid to search for best hyperparameters\n",
    "# First create the base model to tune\n",
    "rf = RandomForestClassifier()\n",
    "# Random search of parameters, using 3 fold cross validation, \n",
    "# search across 100 different combinations, and use all available cores\n",
    "rf_random = RandomizedSearchCV(estimator = rf, param_distributions = random_grid, n_iter = 100, cv = 3, verbose=2, random_state=42, n_jobs = 1)\n",
    "# Fit the random search model\n",
    "rf_random.fit(train_allvars, train_labels)"
   ]
  },
  {
   "cell_type": "code",
   "execution_count": null,
   "metadata": {
    "scrolled": false
   },
   "outputs": [],
   "source": [
    "rf_random.best_estimator_"
   ]
  },
  {
   "cell_type": "code",
   "execution_count": null,
   "metadata": {},
   "outputs": [],
   "source": [
    "rf_random.cv_results_"
   ]
  },
  {
   "cell_type": "code",
   "execution_count": null,
   "metadata": {
    "scrolled": true
   },
   "outputs": [],
   "source": [
    "# Get CV results\n",
    "\n",
    "rf_random.best_params_\n",
    "df_cv_results = pd.DataFrame(rf_random.cv_results_)\n",
    "df_cv_results.head()"
   ]
  },
  {
   "cell_type": "code",
   "execution_count": null,
   "metadata": {},
   "outputs": [],
   "source": [
    "df_cv_results.to_csv('df_cv_results.csv')"
   ]
  },
  {
   "cell_type": "code",
   "execution_count": null,
   "metadata": {},
   "outputs": [],
   "source": [
    "# Define evaluation means function\n",
    "def evaluate(model, valid_data, labels_valid):\n",
    "    predictions = model.predict(valid_data)\n",
    "    predictions1 = predictions + 1 \n",
    "    test_labels1 = labels_valid + 1\n",
    "    errors = abs(predictions1 - test_labels1)\n",
    "    mape = 100 * np.mean(errors / test_labels1)\n",
    "    accuracy = 100 - mape\n",
    "    print('Model Performance')\n",
    "    print('Average Error: {:0.4f} degrees.'.format(np.mean(errors)))\n",
    "    print('Accuracy = {:0.2f}%.'.format(accuracy))\n",
    "    \n",
    "    return accuracy"
   ]
  },
  {
   "cell_type": "code",
   "execution_count": null,
   "metadata": {},
   "outputs": [],
   "source": [
    "# Evaluate best model against base model\n",
    "base_model = RandomForestClassifier(n_estimators = 10, random_state = 42)\n",
    "base_model.fit(train_allvars, train_labels)\n",
    "base_accuracy = evaluate(base_model, valid_data, labels_valid)\n",
    "\n",
    "best_random = rf_random.best_estimator_\n",
    "random_accuracy = evaluate(best_random, valid_data, labels_valid)\n",
    "\n",
    "print('Improvement of {:0.2f}%.'.format( 100 * (random_accuracy - base_accuracy) / base_accuracy))"
   ]
  },
  {
   "cell_type": "code",
   "execution_count": null,
   "metadata": {},
   "outputs": [],
   "source": [
    "# Save -- too large file \n",
    "joblib.dump(rf_random, 'rf_random_last.pkl')"
   ]
  },
  {
   "cell_type": "markdown",
   "metadata": {},
   "source": [
    "# Random Forest\n",
    "# Run RF with best model identified by CV "
   ]
  },
  {
   "cell_type": "code",
   "execution_count": 22,
   "metadata": {},
   "outputs": [],
   "source": [
    "# Assign weights - default for 0s and 1s and double weighting for 2s and 3s\n",
    "# weights = {0:1.0, 1:1.0, 2:2.0, 3:2.0}\n",
    "\n",
    "# Instantiate model with N decision trees\n",
    "rfc = RandomForestClassifier(max_depth=10, max_features='sqrt', min_samples_leaf=4, min_samples_split=5, n_estimators=700, random_state = 42, bootstrap=True, oob_score=True) # class_weight=weights,\n",
    "#rf_200 = RandomForestClassifier(n_estimators = 200, bootstrap=False , min_samples_split=2, min_samples_leaf=1, max_features=\"sqrt\", random_state = 42, max_depth=80, oob_score=False)\n",
    "\n",
    "# Train the model on training data\n",
    "rfc.fit(X_train, y_train);"
   ]
  },
  {
   "cell_type": "code",
   "execution_count": 23,
   "metadata": {
    "scrolled": false
   },
   "outputs": [
    {
     "name": "stdout",
     "output_type": "stream",
     "text": [
      "Score against train set:  0.7278875124004658\n",
      "OOB Score:  0.7233744900434175\n",
      "Score against test set:  0.7160260511882999\n"
     ]
    }
   ],
   "source": [
    "print('Score against train set: ', rfc.score(X_train, y_train))\n",
    "print('OOB Score: ', rfc.oob_score_) # only if bootstrap=True\n",
    "print('Score against test set: ', rfc.score(X_test, y_test))"
   ]
  },
  {
   "cell_type": "code",
   "execution_count": 148,
   "metadata": {},
   "outputs": [],
   "source": [
    "# Make predictions for the test set\n",
    "yc_pred_test = rfc.predict(X_test)\n",
    "\n",
    "# Add 1 to be able to do the division for MAPE \n",
    "yc_pred_test1 = yc_pred_test + 1\n",
    "test_labels1 = labels_valid + 1"
   ]
  },
  {
   "cell_type": "code",
   "execution_count": 347,
   "metadata": {},
   "outputs": [],
   "source": [
    "np.savetxt(\"ycv_pred_700trees.csv\", yc_pred_test, delimiter=\" \")"
   ]
  },
  {
   "cell_type": "code",
   "execution_count": 25,
   "metadata": {},
   "outputs": [
    {
     "name": "stdout",
     "output_type": "stream",
     "text": [
      "Mean Absolute Error: 0.31\n"
     ]
    }
   ],
   "source": [
    "# Calculate the absolute errors\n",
    "errorsc = abs(yc_pred_test1 - test_labels1)\n",
    "\n",
    "# Print out the mean absolute error (mae)\n",
    "print('Mean Absolute Error:', round(np.mean(errorsc), 2))"
   ]
  },
  {
   "cell_type": "code",
   "execution_count": 26,
   "metadata": {},
   "outputs": [
    {
     "name": "stdout",
     "output_type": "stream",
     "text": [
      "Accuracy: 78.77 %.\n"
     ]
    }
   ],
   "source": [
    "# Calculate mean absolute percentage error (MAPE)\n",
    "mapec = 100 * (errorsc / test_labels1)\n",
    "# Calculate and display accuracy\n",
    "accuracyc = 100 - np.mean(mapec)\n",
    "print('Accuracy:', round(accuracyc, 2), '%.')"
   ]
  },
  {
   "cell_type": "code",
   "execution_count": 209,
   "metadata": {
    "scrolled": true
   },
   "outputs": [
    {
     "data": {
      "text/plain": [
       "0.710632515028961"
      ]
     },
     "execution_count": 209,
     "metadata": {},
     "output_type": "execute_result"
    }
   ],
   "source": [
    "# AUC\n",
    "false_positive_rate, true_positive_rate, thresholds = metrics.roc_curve(yc_pred_test1, y_test, pos_label=2)\n",
    "metrics.auc(false_positive_rate, true_positive_rate)"
   ]
  },
  {
   "cell_type": "code",
   "execution_count": 210,
   "metadata": {},
   "outputs": [
    {
     "name": "stdout",
     "output_type": "stream",
     "text": [
      "Parameters currently in use:\n",
      "\n",
      "{'bootstrap': True,\n",
      " 'ccp_alpha': 0.0,\n",
      " 'class_weight': None,\n",
      " 'criterion': 'gini',\n",
      " 'max_depth': 10,\n",
      " 'max_features': 'sqrt',\n",
      " 'max_leaf_nodes': None,\n",
      " 'max_samples': None,\n",
      " 'min_impurity_decrease': 0.0,\n",
      " 'min_impurity_split': None,\n",
      " 'min_samples_leaf': 4,\n",
      " 'min_samples_split': 5,\n",
      " 'min_weight_fraction_leaf': 0.0,\n",
      " 'n_estimators': 700,\n",
      " 'n_jobs': None,\n",
      " 'oob_score': True,\n",
      " 'random_state': 42,\n",
      " 'verbose': 0,\n",
      " 'warm_start': False}\n"
     ]
    }
   ],
   "source": [
    "print('Parameters currently in use:\\n')\n",
    "pprint(rfc.get_params())"
   ]
  },
  {
   "cell_type": "code",
   "execution_count": 29,
   "metadata": {},
   "outputs": [],
   "source": [
    "np.savetxt(\"labels_valid.csv\", y_test, delimiter=\" \")"
   ]
  },
  {
   "cell_type": "markdown",
   "metadata": {},
   "source": [
    "## Confusion Matrix"
   ]
  },
  {
   "cell_type": "code",
   "execution_count": 224,
   "metadata": {
    "scrolled": false
   },
   "outputs": [
    {
     "data": {
      "text/plain": [
       "array([[273519,  62320,   2229,     42],\n",
       "       [ 17516,  35884,   3641,     35],\n",
       "       [  5521,  28416,   3930,     62],\n",
       "       [   682,   3014,    789,      0]])"
      ]
     },
     "execution_count": 224,
     "metadata": {},
     "output_type": "execute_result"
    }
   ],
   "source": [
    "# View confusion matrix for test data and predictions\n",
    "confusion_matrix(y_test, yc_pred_test)"
   ]
  },
  {
   "cell_type": "code",
   "execution_count": 221,
   "metadata": {
    "scrolled": false
   },
   "outputs": [
    {
     "data": {
      "image/png": "[encoded data removed]",
      "text/plain": [
       "<Figure size 1152x504 with 2 Axes>"
      ]
     },
     "metadata": {},
     "output_type": "display_data"
    }
   ],
   "source": [
    "# Get and reshape confusion matrix data\n",
    "matrix = confusion_matrix(y_test, yc_pred_test, normalize = 'true')\n",
    "#matrix = matrix.astype('float') / matrix.sum(axis=1)[:, np.newaxis]\n",
    "\n",
    "# Build the plot\n",
    "plt.figure(figsize=(16,7))\n",
    "sns.set(font_scale=1.4)\n",
    "sns.heatmap(matrix, annot=True, annot_kws={'size':14},\n",
    "            cmap=plt.cm.Greys, linewidths=0.2)\n",
    "\n",
    "# Add labels to the plot\n",
    "class_names = ['No Event','Moderate', 'Strong', 'Severe/Extreme'] # 'Severe','Extreme']\n",
    "#class_names = ['Absence', 'Presence']\n",
    "tick_marks = np.arange(len(class_names))\n",
    "tick_marks2 = tick_marks + 0.5\n",
    "plt.xticks(tick_marks, class_names, rotation=25)\n",
    "plt.yticks(tick_marks2, class_names, rotation=0)\n",
    "plt.xlabel('Predicted label')\n",
    "plt.ylabel('True label')\n",
    "plt.title('Confusion Matrix for Random Forest Model')\n",
    "plt.show()"
   ]
  },
  {
   "cell_type": "markdown",
   "metadata": {},
   "source": [
    "Total number of MHW pixels:\n",
    "\n",
    "No event = 338110,\n",
    "Moderate = 57076,\n",
    "Strong = 37929,\n",
    "Severe/Extreme = 4485"
   ]
  },
  {
   "cell_type": "code",
   "execution_count": 52,
   "metadata": {
    "scrolled": true
   },
   "outputs": [
    {
     "data": {
      "text/plain": [
       "array([[273519,  62320,   2229,     42],\n",
       "       [ 17516,  35884,   3641,     35],\n",
       "       [  5521,  28416,   3930,     62],\n",
       "       [   682,   3014,    789,      0]])"
      ]
     },
     "execution_count": 52,
     "metadata": {},
     "output_type": "execute_result"
    }
   ],
   "source": [
    "confusion_matrix(y_test, yc_pred_test)"
   ]
  },
  {
   "cell_type": "code",
   "execution_count": 276,
   "metadata": {},
   "outputs": [
    {
     "data": {
      "text/plain": [
       "0.8144348929099956"
      ]
     },
     "execution_count": 276,
     "metadata": {},
     "output_type": "execute_result"
    }
   ],
   "source": [
    "# recall = \n",
    "273519/(273519+62320)"
   ]
  },
  {
   "cell_type": "code",
   "execution_count": 283,
   "metadata": {},
   "outputs": [
    {
     "data": {
      "text/plain": [
       "0.9398147989073479"
      ]
     },
     "execution_count": 283,
     "metadata": {},
     "output_type": "execute_result"
    }
   ],
   "source": [
    "# precision = \n",
    "273519/(273519+17516)"
   ]
  },
  {
   "cell_type": "code",
   "execution_count": 212,
   "metadata": {},
   "outputs": [],
   "source": [
    "tn, fp, fn, tp = confusion_matrix(y_test, yc_pred_test)"
   ]
  },
  {
   "cell_type": "code",
   "execution_count": 286,
   "metadata": {},
   "outputs": [
    {
     "data": {
      "text/plain": [
       "array([ 682, 3014,  789,    0])"
      ]
     },
     "execution_count": 286,
     "metadata": {},
     "output_type": "execute_result"
    }
   ],
   "source": [
    "tp"
   ]
  },
  {
   "cell_type": "code",
   "execution_count": 214,
   "metadata": {
    "scrolled": true
   },
   "outputs": [
    {
     "name": "stdout",
     "output_type": "stream",
     "text": [
      "              precision    recall  f1-score   support\n",
      "\n",
      "           0       0.92      0.81      0.86    338110\n",
      "           1       0.28      0.63      0.38     57076\n",
      "           2       0.37      0.10      0.16     37929\n",
      "           3       0.00      0.00      0.00      4485\n",
      "\n",
      "    accuracy                           0.72    437600\n",
      "   macro avg       0.39      0.39      0.35    437600\n",
      "weighted avg       0.78      0.72      0.73    437600\n",
      "\n"
     ]
    }
   ],
   "source": [
    "print(classification_report(y_test, yc_pred_test))"
   ]
  },
  {
   "cell_type": "markdown",
   "metadata": {},
   "source": [
    "## Feature Importance"
   ]
  },
  {
   "cell_type": "code",
   "execution_count": 215,
   "metadata": {
    "scrolled": true
   },
   "outputs": [
    {
     "name": "stdout",
     "output_type": "stream",
     "text": [
      "[0.04257151 0.02914539 0.04788145 0.03109526 0.02373557 0.03393956\n",
      " 0.00958693 0.78204433]\n"
     ]
    }
   ],
   "source": [
    "importances = rfc.feature_importances_\n",
    "print(importances)"
   ]
  },
  {
   "cell_type": "code",
   "execution_count": 216,
   "metadata": {},
   "outputs": [
    {
     "name": "stdout",
     "output_type": "stream",
     "text": [
      "Variable: sst                  Importance: 0.78\n",
      "Variable: lat                  Importance: 0.05\n",
      "Variable: doy                  Importance: 0.04\n",
      "Variable: lon                  Importance: 0.03\n",
      "Variable: Qnet                 Importance: 0.03\n",
      "Variable: sat                  Importance: 0.03\n",
      "Variable: slp                  Importance: 0.02\n",
      "Variable: wind_speed           Importance: 0.01\n"
     ]
    },
    {
     "data": {
      "image/png": "[encoded data removed]",
      "text/plain": [
       "<Figure size 432x288 with 1 Axes>"
      ]
     },
     "metadata": {},
     "output_type": "display_data"
    }
   ],
   "source": [
    "columns = ['doy', 'lon', 'lat', 'Qnet','slp', 'sat', 'wind_speed','sst']\n",
    "feature_list = list(columns)\n",
    "\n",
    "# Get numerical feature importances\n",
    "importances = list(rfc.feature_importances_)\n",
    "# List of tuples with variable and importance\n",
    "feature_importances = [(feature, round(importance, 2)) for feature, importance in zip(feature_list, importances)]\n",
    "# Sort the feature importances by most important first\n",
    "feature_importances = sorted(feature_importances, key = lambda x: x[1], reverse = True)\n",
    "# Print out the feature and importances \n",
    "[print('Variable: {:20} Importance: {}'.format(*pair)) for pair in feature_importances]\n",
    "\n",
    "# list of x locations for plotting\n",
    "x_values = list(range(len(importances)))\n",
    "# Make a bar chart\n",
    "plt.bar(x_values, importances, orientation = 'vertical', color = (0.5, 0.5, 0.5, 0.5), edgecolor = 'k', linewidth = 1.2)\n",
    "# Tick labels for x axis\n",
    "plt.xticks(x_values, feature_list, rotation = 'vertical')\n",
    "# Axis labels and title\n",
    "plt.ylabel('Importance'); plt.xlabel('Variable'); plt.title('Variable Importance');"
   ]
  },
  {
   "cell_type": "code",
   "execution_count": 440,
   "metadata": {
    "scrolled": false
   },
   "outputs": [
    {
     "data": {
      "image/png": "[encoded data removed]",
      "text/plain": [
       "<Figure size 432x288 with 1 Axes>"
      ]
     },
     "metadata": {
      "needs_background": "light"
     },
     "output_type": "display_data"
    }
   ],
   "source": [
    "# List of features sorted from most to least important\n",
    "sorted_importances = [importance[1] for importance in feature_importances]\n",
    "sorted_features = [importance[0] for importance in feature_importances]\n",
    "# Cumulative importances\n",
    "cumulative_importances = np.cumsum(sorted_importances)\n",
    "# Make a line graph\n",
    "plt.plot(x_values, cumulative_importances, 'k-')\n",
    "# Draw line at 95% of importance retained\n",
    "plt.hlines(y = 0.95, xmin=0, xmax=len(sorted_importances), color = 'r', linestyles = 'dashed')\n",
    "# Format x ticks and labels\n",
    "plt.xticks(x_values, sorted_features, rotation = 'vertical')\n",
    "\n",
    "# Axis labels and title\n",
    "plt.xlabel('Variable'); plt.ylabel('Cumulative Importance'); plt.title('Cumulative Importance');\n",
    "\n",
    "plt.savefig('cum_imp_700lag.jpg', dpi=600)\n",
    "\n",
    "plt.show()"
   ]
  },
  {
   "cell_type": "markdown",
   "metadata": {},
   "source": [
    "## Precision - Recall Curve"
   ]
  },
  {
   "cell_type": "code",
   "execution_count": 217,
   "metadata": {},
   "outputs": [
    {
     "name": "stdout",
     "output_type": "stream",
     "text": [
      "4\n"
     ]
    }
   ],
   "source": [
    "# Use label_binarize to be multi-label like settings\n",
    "Y = label_binarize(y_test, classes=[0, 1, 2, 3])\n",
    "n_classes = Y.shape[1]\n",
    "\n",
    "print(n_classes)"
   ]
  },
  {
   "cell_type": "code",
   "execution_count": 160,
   "metadata": {},
   "outputs": [
    {
     "data": {
      "text/plain": [
       "(437600, 4)"
      ]
     },
     "execution_count": 160,
     "metadata": {},
     "output_type": "execute_result"
    }
   ],
   "source": [
    "Y.shape"
   ]
  },
  {
   "cell_type": "code",
   "execution_count": 154,
   "metadata": {},
   "outputs": [],
   "source": [
    "# Predict probabilities for each class\n",
    "lr_probs = rfc.predict_proba(X_test)"
   ]
  },
  {
   "cell_type": "code",
   "execution_count": null,
   "metadata": {},
   "outputs": [],
   "source": [
    "np.savetxt(\"lr_probs.csv\", lr_probs, delimiter=\" , \")"
   ]
  },
  {
   "cell_type": "code",
   "execution_count": 319,
   "metadata": {},
   "outputs": [
    {
     "name": "stdout",
     "output_type": "stream",
     "text": [
      "Average precision score, micro-averaged over all classes: 0.85\n"
     ]
    }
   ],
   "source": [
    "# For each class\n",
    "precision = dict()\n",
    "recall = dict()\n",
    "average_precision = dict()\n",
    "\n",
    "for i in range(n_classes):\n",
    "    precision[i], recall[i], _ = precision_recall_curve(Y[:, i],\n",
    "                                                        lr_probs[:, i])\n",
    "    average_precision[i] = average_precision_score(Y[:, i], lr_probs[:, i])\n",
    "\n",
    "# A \"micro-average\": quantifying score on all classes jointly\n",
    "precision[\"micro\"], recall[\"micro\"], _ = precision_recall_curve(Y.ravel(),\n",
    "    lr_probs.ravel())\n",
    "average_precision[\"micro\"] = average_precision_score(Y, lr_probs,\n",
    "                                                     average=\"micro\")\n",
    "print('Average precision score, micro-averaged over all classes: {0:0.2f}'\n",
    "      .format(average_precision[\"micro\"]))"
   ]
  },
  {
   "cell_type": "code",
   "execution_count": 326,
   "metadata": {},
   "outputs": [
    {
     "data": {
      "text/plain": [
       "{0: array([0.77266921, 0.77266869, 0.77267045, ..., 1.        , 1.        ,\n",
       "        1.        ]),\n",
       " 1: array([0.13056478, 0.13056279, 0.13056309, ..., 0.5       , 1.        ,\n",
       "        1.        ]),\n",
       " 2: array([0.09207208, 0.09206987, 0.0920701 , ..., 0.5       , 1.        ,\n",
       "        1.        ]),\n",
       " 3: array([0.0106481 , 0.01064575, 0.01064577, ..., 0.        , 0.        ,\n",
       "        1.        ]),\n",
       " 'micro': array([0.25236418, 0.25236375, 0.2523639 , ..., 1.        , 1.        ,\n",
       "        1.        ])}"
      ]
     },
     "execution_count": 326,
     "metadata": {},
     "output_type": "execute_result"
    }
   ],
   "source": [
    "precision"
   ]
  },
  {
   "cell_type": "code",
   "execution_count": 320,
   "metadata": {},
   "outputs": [],
   "source": [
    "data = list(precision. items())"
   ]
  },
  {
   "cell_type": "code",
   "execution_count": 322,
   "metadata": {},
   "outputs": [
    {
     "name": "stderr",
     "output_type": "stream",
     "text": [
      "<ipython-input-322-b8a2e33c8f1b>:1: VisibleDeprecationWarning: Creating an ndarray from ragged nested sequences (which is a list-or-tuple of lists-or-tuples-or ndarrays with different lengths or shapes) is deprecated. If you meant to do this, you must specify 'dtype=object' when creating the ndarray\n",
      "  an_array = np. array(data)\n"
     ]
    }
   ],
   "source": [
    "an_array = np. array(data)"
   ]
  },
  {
   "cell_type": "code",
   "execution_count": 327,
   "metadata": {
    "scrolled": true
   },
   "outputs": [
    {
     "data": {
      "text/plain": [
       "array([[0,\n",
       "        array([0.77266921, 0.77266869, 0.77267045, ..., 1.        , 1.        ,\n",
       "       1.        ])],\n",
       "       [1,\n",
       "        array([0.13056478, 0.13056279, 0.13056309, ..., 0.5       , 1.        ,\n",
       "       1.        ])],\n",
       "       [2,\n",
       "        array([0.09207208, 0.09206987, 0.0920701 , ..., 0.5       , 1.        ,\n",
       "       1.        ])],\n",
       "       [3,\n",
       "        array([0.0106481 , 0.01064575, 0.01064577, ..., 0.        , 0.        ,\n",
       "       1.        ])],\n",
       "       ['micro',\n",
       "        array([0.25236418, 0.25236375, 0.2523639 , ..., 1.        , 1.        ,\n",
       "       1.        ])]], dtype=object)"
      ]
     },
     "execution_count": 327,
     "metadata": {},
     "output_type": "execute_result"
    }
   ],
   "source": [
    "an_array"
   ]
  },
  {
   "cell_type": "code",
   "execution_count": 167,
   "metadata": {},
   "outputs": [
    {
     "data": {
      "text/plain": [
       "Text(0.5, 1.0, 'Average precision score, micro-averaged over all classes: AP=0.85')"
      ]
     },
     "execution_count": 167,
     "metadata": {},
     "output_type": "execute_result"
    },
    {
     "data": {
      "image/png": "[encoded data removed]",
      "text/plain": [
       "<Figure size 432x288 with 1 Axes>"
      ]
     },
     "metadata": {},
     "output_type": "display_data"
    }
   ],
   "source": [
    "# Plot average precision-recall curve\n",
    "plt.figure()\n",
    "plt.step(recall['micro'], precision['micro'], where='post')\n",
    "\n",
    "plt.xlabel('Recall')\n",
    "plt.ylabel('Precision')\n",
    "plt.ylim([0.0, 1.05])\n",
    "plt.xlim([0.0, 1.0])\n",
    "plt.title(\n",
    "    'Average precision score, micro-averaged over all classes: AP={0:0.2f}'\n",
    "    .format(average_precision[\"micro\"]))"
   ]
  },
  {
   "cell_type": "code",
   "execution_count": 399,
   "metadata": {
    "scrolled": false
   },
   "outputs": [
    {
     "data": {
      "image/png": "[encoded data removed]",
      "text/plain": [
       "<Figure size 504x576 with 1 Axes>"
      ]
     },
     "metadata": {
      "needs_background": "light"
     },
     "output_type": "display_data"
    }
   ],
   "source": [
    "# Setup plot details\n",
    "colors = cycle(['navy', 'turquoise', 'darkorange', 'cornflowerblue', 'teal'])\n",
    "\n",
    "plt.figure(figsize = (7, 8))\n",
    "#ax1 = plt.subplot2grid((7, 8), (0, 0), colspan=20, rowspan=15)\n",
    "f_scores = np.linspace(0.2, 0.8, num = 4)\n",
    "lines = []\n",
    "labels = []\n",
    "for f_score in f_scores:\n",
    "    x = np.linspace(0.01, 1)\n",
    "    y = f_score * x / (2 * x - f_score)\n",
    "    l, = plt.plot(x[y >= 0], y[y >= 0], color='gray', alpha=0.2)\n",
    "    plt.annotate('f1={0:0.1f}'.format(f_score), xy=(0.9, y[45] + 0.02))\n",
    "\n",
    "lines.append(l)\n",
    "labels.append('iso-f1 curves')\n",
    "l, = plt.plot(recall[\"micro\"], precision[\"micro\"], color='gold', lw=2)\n",
    "lines.append(l)\n",
    "labels.append('micro-average Precision-recall (area = {0:0.2f})'\n",
    "              ''.format(average_precision[\"micro\"]))\n",
    "\n",
    "for i, color in zip(range(n_classes), colors):\n",
    "    l, = plt.plot(recall[i], precision[i], color=color, lw=2)\n",
    "    lines.append(l)\n",
    "    labels.append('Precision-recall for class {0} (area = {1:0.2f})'\n",
    "                  ''.format(i, average_precision[i]))\n",
    "\n",
    "fig = plt.gcf()\n",
    "fig.subplots_adjust(bottom=0.25)\n",
    "plt.xlim([0.0, 1.0])\n",
    "plt.ylim([0.0, 1.05])\n",
    "plt.xlabel('Recall')\n",
    "plt.ylabel('Precision')\n",
    "plt.legend(lines, labels, loc=(0, -0.5), prop=dict(size=14))\n",
    "plt.show()"
   ]
  },
  {
   "cell_type": "markdown",
   "metadata": {},
   "source": [
    "Adjusting Classification Threshold"
   ]
  },
  {
   "cell_type": "code",
   "execution_count": 330,
   "metadata": {},
   "outputs": [],
   "source": [
    "from sklearn.metrics import det_curve\n",
    "\n",
    "for i in range(n_classes):\n",
    "    _ , _ ,thresholds = det_curve(Y[:, i], lr_probs[:, i])\n",
    "    \n",
    "#sklearn.metrics.det_curve(y_test, y_score, pos_label=None, sample_weight=None)[source]"
   ]
  },
  {
   "cell_type": "code",
   "execution_count": 331,
   "metadata": {},
   "outputs": [
    {
     "data": {
      "text/plain": [
       "array([0.00088409, 0.00088409, 0.00088409, ..., 0.41862245, 0.41913626,\n",
       "       0.42261497])"
      ]
     },
     "execution_count": 331,
     "metadata": {},
     "output_type": "execute_result"
    }
   ],
   "source": [
    "thresholds"
   ]
  },
  {
   "cell_type": "markdown",
   "metadata": {},
   "source": [
    "## ROC curve"
   ]
  },
  {
   "cell_type": "code",
   "execution_count": 70,
   "metadata": {
    "scrolled": true
   },
   "outputs": [
    {
     "data": {
      "text/plain": [
       "(437600,)"
      ]
     },
     "execution_count": 70,
     "metadata": {},
     "output_type": "execute_result"
    }
   ],
   "source": [
    "np.shape(yc_pred_test)"
   ]
  },
  {
   "cell_type": "code",
   "execution_count": 173,
   "metadata": {},
   "outputs": [],
   "source": [
    "from sklearn.metrics import roc_curve, auc\n",
    "from scipy import interp\n",
    "\n",
    "# Compute ROC curve and ROC area for each class\n",
    "fpr = dict()\n",
    "tpr = dict()\n",
    "roc_auc = dict()\n",
    "for i in range(n_classes):\n",
    "    fpr[i], tpr[i], _ = roc_curve(Y[:, i], lr_probs[:, i])\n",
    "    roc_auc[i] = auc(fpr[i], tpr[i])\n",
    "\n",
    "# Compute micro-average ROC curve and ROC area\n",
    "fpr[\"micro\"], tpr[\"micro\"], _ = roc_curve(Y.ravel(), lr_probs.ravel())\n",
    "roc_auc[\"micro\"] = auc(fpr[\"micro\"], tpr[\"micro\"])"
   ]
  },
  {
   "cell_type": "code",
   "execution_count": 253,
   "metadata": {},
   "outputs": [
    {
     "data": {
      "text/plain": [
       "{0: array([0.        , 0.        , 0.        , ..., 0.99986933, 0.99986933,\n",
       "        1.        ]),\n",
       " 1: array([0.00000000e+00, 0.00000000e+00, 2.62795514e-06, ...,\n",
       "        9.98809536e-01, 9.98809536e-01, 1.00000000e+00]),\n",
       " 2: array([0.00000000e+00, 0.00000000e+00, 7.50617383e-06, ...,\n",
       "        9.35819712e-01, 9.35819712e-01, 1.00000000e+00]),\n",
       " 3: array([0.00000000e+00, 2.30885562e-06, 9.18924535e-04, ...,\n",
       "        9.62139386e-01, 9.62139386e-01, 1.00000000e+00]),\n",
       " 'micro': array([0.        , 0.        , 0.        , ..., 0.98750914, 0.98750914,\n",
       "        1.        ]),\n",
       " 'macro': array([0.00000000e+00, 2.30885562e-06, 2.62795514e-06, ...,\n",
       "        9.99819077e-01, 9.99869334e-01, 1.00000000e+00])}"
      ]
     },
     "execution_count": 253,
     "metadata": {},
     "output_type": "execute_result"
    }
   ],
   "source": [
    "fpr"
   ]
  },
  {
   "cell_type": "code",
   "execution_count": 401,
   "metadata": {
    "scrolled": false
   },
   "outputs": [
    {
     "data": {
      "image/png": "[encoded data removed]",
      "text/plain": [
       "<Figure size 504x576 with 1 Axes>"
      ]
     },
     "metadata": {
      "needs_background": "light"
     },
     "output_type": "display_data"
    }
   ],
   "source": [
    "lw = 2\n",
    "# First aggregate all false positive rates\n",
    "all_fpr = np.unique(np.concatenate([fpr[i] for i in range(n_classes)]))\n",
    "\n",
    "# Then interpolate all ROC curves at this points\n",
    "mean_tpr = np.zeros_like(all_fpr)\n",
    "for i in range(n_classes):\n",
    "    mean_tpr += np.interp(all_fpr, fpr[i], tpr[i])\n",
    "\n",
    "# Finally average it and compute AUC\n",
    "mean_tpr /= n_classes\n",
    "\n",
    "fpr[\"macro\"] = all_fpr\n",
    "tpr[\"macro\"] = mean_tpr\n",
    "roc_auc[\"macro\"] = auc(fpr[\"macro\"], tpr[\"macro\"])\n",
    "\n",
    "# Plot all ROC curves\n",
    "#plt.figure()\n",
    "\n",
    "plt.figure(figsize = (7, 8))\n",
    "plt.plot(fpr[\"micro\"], tpr[\"micro\"],\n",
    "         label='micro-average ROC curve (area = {0:0.2f})'\n",
    "               ''.format(roc_auc[\"micro\"]),\n",
    "         color='deeppink', linestyle=':', linewidth=4)\n",
    "\n",
    "plt.plot(fpr[\"macro\"], tpr[\"macro\"],\n",
    "         label='macro-average ROC curve (area = {0:0.2f})'\n",
    "               ''.format(roc_auc[\"macro\"]),\n",
    "         color='navy', linestyle=':', linewidth=4)\n",
    "\n",
    "colors = cycle(['navy', 'turquoise', 'darkorange', 'cornflowerblue'])\n",
    "#colors = cycle(['navy', 'turquoise', 'cornflowerblue', 'teal'])\n",
    "for i, color in zip(range(n_classes), colors):\n",
    "    plt.plot(fpr[i], tpr[i], color=color, lw=lw,\n",
    "             label='ROC curve of class {0} (area = {1:0.2f})'\n",
    "             ''.format(i, roc_auc[i]))\n",
    "    \n",
    "#fig = plt.gcf()\n",
    "plt.subplots_adjust(bottom=0.25)\n",
    "plt.plot([0, 1], [0, 1], 'k--', lw=lw)\n",
    "plt.xlim([0.0, 1.0])\n",
    "plt.ylim([0.0, 1.05])\n",
    "plt.xlabel('False Positive Rate')\n",
    "plt.ylabel('True Positive Rate')\n",
    "#plt.title('Receiver operating characteristic for MHW multi-class')\n",
    "plt.legend(loc=(0, -0.5), prop=dict(size=14))\n",
    "#plt.legend(loc=\"lower right\")\n",
    "plt.show()"
   ]
  },
  {
   "cell_type": "markdown",
   "metadata": {},
   "source": [
    "### ROC curves typically feature true positive rate on the Y axis, and false positive rate on the X axis. This means that the top left corner of the plot is the “ideal” point - a false positive rate of zero, and a true positive rate of one. This is not very realistic, but it does mean that a larger area under the curve (AUC) is usually better. \n",
    "\n",
    "### The “steepness” of ROC curves is also important, since it is ideal to maximize the true positive rate while minimizing the false positive rate.\n",
    "\n",
    "### ROC curves are typically used in binary classification to study the output of a classifier. In order to extend ROC curve and ROC area to multi-label classification, it is necessary to binarize the output. One ROC curve can be drawn per label, but one can also draw a ROC curve by considering each element of the label indicator matrix as a binary prediction (micro-averaging).\n",
    "\n",
    "### Another evaluation measure for multi-label classification is macro-averaging, which gives equal weight to the classification of each label."
   ]
  },
  {
   "cell_type": "code",
   "execution_count": 389,
   "metadata": {},
   "outputs": [
    {
     "ename": "SyntaxError",
     "evalue": "invalid syntax (<ipython-input-389-128a3181de37>, line 31)",
     "output_type": "error",
     "traceback": [
      "\u001b[0;36m  File \u001b[0;32m\"<ipython-input-389-128a3181de37>\"\u001b[0;36m, line \u001b[0;32m31\u001b[0m\n\u001b[0;31m    ax1.xlim([0.0, 1.0])\u001b[0m\n\u001b[0m    ^\u001b[0m\n\u001b[0;31mSyntaxError\u001b[0m\u001b[0;31m:\u001b[0m invalid syntax\n"
     ]
    }
   ],
   "source": [
    "\n",
    "# Setup PR curve details\n",
    "colors = cycle(['navy', 'turquoise', 'darkorange', 'cornflowerblue', 'teal'])\n",
    "\n",
    "#plt.figure(figsize = (7, 8)), colspan=10, rowspan=15\n",
    "\n",
    "f_scores = np.linspace(0.2, 0.8, num = 4)\n",
    "lines = []\n",
    "labels = []\n",
    "for f_score in f_scores:\n",
    "    x = np.linspace(0.01, 1)\n",
    "    y = f_score * x / (2 * x - f_score)\n",
    "    l, = plt.plot(x[y >= 0], y[y >= 0], color='gray', alpha=0.2)\n",
    "    plt.annotate('f1={0:0.1f}'.format(f_score), xy=(0.9, y[45] + 0.02))\n",
    "\n",
    "lines.append(l)\n",
    "labels.append('iso-f1 curves')\n",
    "l, = plt.plot(recall[\"micro\"], precision[\"micro\"], color='gold', lw=2)\n",
    "lines.append(l)\n",
    "labels.append('micro-average Precision-recall (area = {0:0.2f})'\n",
    "              ''.format(average_precision[\"micro\"]))\n",
    "\n",
    "for i, color in zip(range(n_classes), colors):\n",
    "    l, = plt.plot(recall[i], precision[i], color=color, lw=2)\n",
    "    lines.append(l)\n",
    "    labels.append('Precision-recall for class {0} (area = {1:0.2f})'\n",
    "                  ''.format(i, average_precision[i]))\n",
    "\n",
    "ax1 = plt.subplot2grid((0, 1, (7, 8))\n",
    "#fig = plt.gcf()\n",
    "#ax1.subplots_adjust(bottom=0.25)\n",
    "ax1.xlim([0.0, 1.0])\n",
    "ax1.ylim([0.0, 1.05])\n",
    "ax1.xlabel('Recall')\n",
    "ax1.ylabel('Precision')\n",
    "ax1.legend(lines, labels, loc=(0, -1), prop=dict(size=14))\n",
    "\n",
    "#Setup ROC curve details\n",
    "lw = 2\n",
    "# First aggregate all false positive rates\n",
    "all_fpr = np.unique(np.concatenate([fpr[i] for i in range(n_classes)]))\n",
    "\n",
    "# Then interpolate all ROC curves at this points\n",
    "mean_tpr = np.zeros_like(all_fpr)\n",
    "for i in range(n_classes):\n",
    "    mean_tpr += np.interp(all_fpr, fpr[i], tpr[i])\n",
    "\n",
    "# Finally average it and compute AUC\n",
    "mean_tpr /= n_classes\n",
    "\n",
    "fpr[\"macro\"] = all_fpr\n",
    "tpr[\"macro\"] = mean_tpr\n",
    "roc_auc[\"macro\"] = auc(fpr[\"macro\"], tpr[\"macro\"])\n",
    "\n",
    "# Plot all ROC curves\n",
    "#plt.figure(), colspan=10, rowspan=15\n",
    "ax2 = plt.subplot2grid(0, 0, (7, 8))\n",
    "#plt.figure(figsize = (7, 8))\n",
    "plt.plot(fpr[\"micro\"], tpr[\"micro\"],\n",
    "         label='micro-average ROC curve (area = {0:0.2f})'\n",
    "               ''.format(roc_auc[\"micro\"]),\n",
    "         color='deeppink', linestyle=':', linewidth=4)\n",
    "\n",
    "plt.plot(fpr[\"macro\"], tpr[\"macro\"],\n",
    "         label='macro-average ROC curve (area = {0:0.2f})'\n",
    "               ''.format(roc_auc[\"macro\"]),\n",
    "         color='navy', linestyle=':', linewidth=4)\n",
    "\n",
    "colors = cycle(['navy', 'turquoise', 'darkorange', 'cornflowerblue'])\n",
    "#colors = cycle(['navy', 'turquoise', 'cornflowerblue', 'teal'])\n",
    "for i, color in zip(range(n_classes), colors):\n",
    "    plt.plot(fpr[i], tpr[i], color=color, lw=lw,\n",
    "             label='ROC curve of class {0} (area = {1:0.2f})'\n",
    "             ''.format(i, roc_auc[i]))\n",
    "    \n",
    "#fig = plt.gcf()\n",
    "#plt.subplots_adjust(bottom=0.25)\n",
    "plt.plot([0, 1], [0, 1], 'k--', lw=lw)\n",
    "plt.xlim([0.0, 1.0])\n",
    "plt.ylim([0.0, 1.05])\n",
    "plt.xlabel('False Positive Rate')\n",
    "plt.ylabel('True Positive Rate')\n",
    "#plt.title('Receiver operating characteristic for MHW multi-class')\n",
    "plt.legend(loc=(0, -1), prop=dict(size=14))\n",
    "#plt.legend(loc=\"lower right\")\n",
    "plt.show()"
   ]
  }
 ],
 "metadata": {
  "kernelspec": {
   "display_name": "Python 3",
   "language": "python",
   "name": "python3"
  },
  "language_info": {
   "codemirror_mode": {
    "name": "ipython",
    "version": 3
   },
   "file_extension": ".py",
   "mimetype": "text/x-python",
   "name": "python",
   "nbconvert_exporter": "python",
   "pygments_lexer": "ipython3",
   "version": "3.8.5"
  }
 },
 "nbformat": 4,
 "nbformat_minor": 2
}
