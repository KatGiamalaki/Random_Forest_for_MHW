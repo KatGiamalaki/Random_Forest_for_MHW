{
 "cells": [
  {
   "cell_type": "markdown",
   "source": [
    "# Prediction Maps"
   ],
   "metadata": {}
  },
  {
   "cell_type": "markdown",
   "source": [
    "### Uploading files - unbalanced 2017-2019 test set / predictions vector / lon,lat, cubes in map format (lon,lat,time)"
   ],
   "metadata": {}
  },
  {
   "cell_type": "code",
   "execution_count": 14,
   "source": [
    "import matplotlib.pyplot as plt\n",
    "import numpy as np\n",
    "import xarray as xr\n",
    "import netCDF4 as nc\n",
    "import pandas as pd\n",
    "import os \n",
    "\n",
    "%matplotlib inline"
   ],
   "outputs": [],
   "metadata": {}
  },
  {
   "cell_type": "code",
   "execution_count": 15,
   "source": [
    "mfdataDIRa = '/Users/katerinagiamalaki/Desktop/rf_mhw_local/cubes_NP.nc'\n",
    "DS = xr.open_mfdataset(mfdataDIRa)\n",
    "lon = DS.lon\n",
    "lat = DS.lat"
   ],
   "outputs": [],
   "metadata": {}
  },
  {
   "cell_type": "code",
   "execution_count": 16,
   "source": [
    "mfdataDIRb = '/Users/katerinagiamalaki/Desktop/rf_mhw_local/pred_map.nc'\n",
    "pm_19_7lag = xr.open_mfdataset(mfdataDIRb)"
   ],
   "outputs": [],
   "metadata": {}
  },
  {
   "cell_type": "code",
   "execution_count": 17,
   "source": [
    "mfdataDIRc = '/Users/katerinagiamalaki/Desktop/rf_mhw_local/pred_map_131019_270.nc'\n",
    "pm_19_270lag = xr.open_mfdataset(mfdataDIRc)"
   ],
   "outputs": [],
   "metadata": {}
  },
  {
   "cell_type": "code",
   "execution_count": 18,
   "source": [
    "mfdataDIRd = '/Users/katerinagiamalaki/Desktop/rf_mhw_local/pred_map_131019_560.nc'\n",
    "pm_19_560lag = xr.open_mfdataset(mfdataDIRd)"
   ],
   "outputs": [],
   "metadata": {}
  },
  {
   "cell_type": "code",
   "execution_count": 19,
   "source": [
    "mfdataDIRe = '/Users/katerinagiamalaki/Desktop/rf_mhw_local/pred_map_131017.nc'\n",
    "pm_17_7lag = xr.open_mfdataset(mfdataDIRe)"
   ],
   "outputs": [],
   "metadata": {}
  },
  {
   "cell_type": "code",
   "execution_count": 21,
   "source": [
    "file='/Users/katerinagiamalaki/Desktop/rf_mhw_local/lags.csv'\n",
    "lags = pd.read_csv(file, header=None) #names=colnames,\n",
    "lags.columns = [lags]\n"
   ],
   "outputs": [],
   "metadata": {}
  },
  {
   "cell_type": "code",
   "execution_count": 22,
   "source": [
    "lon_min=min(lon)\n",
    "lon_max=max(lon)\n",
    "lat_min=min(lat)\n",
    "lat_max=max(lat)\n",
    "X,Y = np.meshgrid(lon,lat)"
   ],
   "outputs": [],
   "metadata": {}
  },
  {
   "cell_type": "code",
   "execution_count": 23,
   "source": [
    "import cartopy\n",
    "import cartopy.feature as cft\n",
    "import cartopy.crs as ccrs\n",
    "import cmocean as cm\n",
    "\n",
    "cubes_7lag_1 = DS.cubes.isel(time=13063)\n",
    "cubes_7lag_2 = DS.cubes.isel(time=13070)\n",
    "cubes_7lag_3 = DS.cubes.isel(time=13793)\n",
    "cubes_7lag_4 = DS.cubes.isel(time=13799)\n",
    "cubes_270lag = DS.cubes.isel(time=13530)\n",
    "cubes_560lag = DS.cubes.isel(time=13240)\n",
    "lon = DS.lon\n",
    "lat = DS.lat\n",
    "lons = np.array(DS.lon)\n",
    "lats =np.array(DS.lat)\n",
    "lon_min=min(lon)\n",
    "color='viridis'\n",
    "\n",
    "ax1 = plt.subplot2grid((4, 5), (0, 0), colspan=1, projection=ccrs.PlateCarree()) \n",
    "plt.pcolormesh(X, Y, cubes_7lag_1, transform=ccrs.PlateCarree(),cmap=plt.cm.get_cmap(color))\n",
    "plt.clim(0, 4)\n",
    "ax1.coastlines(color = 'black')\n",
    "ax1.add_feature(cft.LAND)\n",
    "\n",
    "ax2 = plt.subplot2grid((4, 5), (0, 1), colspan=1 , projection=ccrs.PlateCarree())\n",
    "plt.pcolormesh(X, Y, cubes_7lag_2, transform=ccrs.PlateCarree(),cmap=plt.cm.get_cmap(color))\n",
    "plt.clim(0, 4)\n",
    "ax2.coastlines(color = 'black')\n",
    "ax2.add_feature(cft.LAND)\n",
    "\n",
    "ax3 = plt.subplot2grid((4, 5), (0, 2), colspan=1,  projection=ccrs.PlateCarree())\n",
    "plt.pcolormesh(X, Y, pm_17_7lag.pred_map_131017, transform=ccrs.PlateCarree(),cmap=plt.cm.get_cmap(color))\n",
    "plt.clim(0, 4)\n",
    "ax3.coastlines(color = 'black')\n",
    "ax3.add_feature(cft.LAND)\n",
    "\n",
    "ax4 = plt.subplot2grid((4, 5), (1, 0), colspan=1,  projection=ccrs.PlateCarree())\n",
    "plt.pcolormesh(X, Y, cubes_7lag_3, transform=ccrs.PlateCarree(),cmap=plt.cm.get_cmap(color))\n",
    "plt.clim(0, 4)\n",
    "ax4.coastlines(color = 'black')\n",
    "ax4.add_feature(cft.LAND)\n",
    "\n",
    "ax5 = plt.subplot2grid((4, 5), (1, 1), colspan=1,  projection=ccrs.PlateCarree())\n",
    "plt.pcolormesh(X, Y, cubes_7lag_4, transform=ccrs.PlateCarree(),cmap=plt.cm.get_cmap(color))\n",
    "plt.clim(0, 4)\n",
    "ax5.coastlines(color = 'black')\n",
    "ax5.add_feature(cft.LAND)\n",
    "\n",
    "ax6 = plt.subplot2grid((4, 5), (1, 2), colspan=1,  projection=ccrs.PlateCarree())\n",
    "plt.pcolormesh(X, Y, pm_19_7lag.pred_map, transform=ccrs.PlateCarree(),cmap=plt.cm.get_cmap(color))\n",
    "plt.clim(0, 4)\n",
    "ax6.coastlines(color = 'black')\n",
    "ax6.add_feature(cft.LAND)\n",
    "\n",
    "ax7 = plt.subplot2grid((4, 5), (2, 0), colspan=1, projection=ccrs.PlateCarree())\n",
    "plt.pcolormesh(X, Y, cubes_270lag, transform=ccrs.PlateCarree(),cmap=plt.cm.get_cmap(color))\n",
    "plt.clim(0, 4)\n",
    "ax7.coastlines(color = 'black')\n",
    "ax7.add_feature(cft.LAND)\n",
    "\n",
    "ax8 = plt.subplot2grid((4, 5), (2, 1), colspan=1, projection=ccrs.PlateCarree())\n",
    "plt.pcolormesh(X, Y, cubes_7lag_4,  transform=ccrs.PlateCarree(),cmap=plt.cm.get_cmap(color))\n",
    "plt.clim(0, 4)\n",
    "ax8.coastlines(color = 'black')\n",
    "ax8.add_feature(cft.LAND)\n",
    "\n",
    "ax9 = plt.subplot2grid((4, 5), (2, 2), colspan=1, projection=ccrs.PlateCarree())\n",
    "plt.pcolormesh(X, Y, pm_19_270lag.pred_map_131019_270, transform=ccrs.PlateCarree(),cmap=plt.cm.get_cmap(color))\n",
    "plt.clim(0, 4)\n",
    "ax9.coastlines(color = 'black')\n",
    "ax9.add_feature(cft.LAND)\n",
    "\n",
    "#13240\n",
    "ax10 = plt.subplot2grid((4, 5), (3, 0), colspan=1, projection=ccrs.PlateCarree())\n",
    "plt.pcolormesh(X, Y, cubes_560lag , transform=ccrs.PlateCarree(),cmap=plt.cm.get_cmap(color))\n",
    "plt.clim(0, 4)\n",
    "ax10.coastlines(color = 'black')\n",
    "ax10.add_feature(cft.LAND)\n",
    "\n",
    "ax11 = plt.subplot2grid((4, 5), (3, 1), colspan=1, projection=ccrs.PlateCarree())\n",
    "plt.pcolormesh(X, Y, cubes_7lag_4, transform=ccrs.PlateCarree(),cmap=plt.cm.get_cmap(color))\n",
    "ax11.coastlines(color = 'black')\n",
    "ax11.add_feature(cft.LAND)\n",
    "plt.clim(0, 4)\n",
    "\n",
    "ax12 = plt.subplot2grid((4, 5), (3, 2), colspan=1, projection=ccrs.PlateCarree())\n",
    "plt.pcolormesh(X, Y, pm_19_560lag.pred_map_131019_560, transform=ccrs.PlateCarree(), cmap=plt.cm.get_cmap(color))\n",
    "plt.clim(0, 4)\n",
    "ax12.coastlines(color = 'black')\n",
    "ax12.add_feature(cft.LAND)\n",
    "\n",
    "ax = plt.subplot2grid((4, 5), (1, 3), rowspan=2, colspan=2)\n",
    "ax.plot(lags[0],lags[2],'-g')\n",
    "plt.tick_params(axis='y', which='both', labelleft=False, labelright=True)\n",
    "plt.ylabel('Area Under the Curve', labelpad=-170, fontsize=12)\n",
    "plt.xlabel('Lag (days)', fontsize=12)\n",
    "\n",
    "\n",
    "plt.show()"
   ],
   "outputs": [
    {
     "output_type": "display_data",
     "data": {
      "image/png": "[encoded data removed]",
      "text/plain": [
       "<Figure size 432x288 with 13 Axes>"
      ]
     },
     "metadata": {
      "needs_background": "light"
     }
    }
   ],
   "metadata": {}
  }
 ],
 "metadata": {
  "kernelspec": {
   "name": "python3",
   "display_name": "Python 3.7.6 64-bit ('base': conda)"
  },
  "language_info": {
   "codemirror_mode": {
    "name": "ipython",
    "version": 3
   },
   "file_extension": ".py",
   "mimetype": "text/x-python",
   "name": "python",
   "nbconvert_exporter": "python",
   "pygments_lexer": "ipython3",
   "version": "3.7.6"
  },
  "interpreter": {
   "hash": "6f1d453e98245ee420e152c0fb730972d7b160415c992128dab754eb764d14f0"
  }
 },
 "nbformat": 4,
 "nbformat_minor": 4
}